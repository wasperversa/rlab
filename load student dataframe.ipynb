{
 "cells": [
  {
   "cell_type": "code",
   "execution_count": 2,
   "id": "02e04b36",
   "metadata": {
    "vscode": {
     "languageId": "r"
    }
   },
   "outputs": [
    {
     "data": {
      "text/html": [
       "<table class=\"dataframe\">\n",
       "<caption>A data.frame: 3 × 10</caption>\n",
       "<thead>\n",
       "\t<tr><th></th><th scope=col>sname</th><th scope=col>sroll</th><th scope=col>sage</th><th scope=col>ssex</th><th scope=col>branch</th><th scope=col>m1</th><th scope=col>m2</th><th scope=col>m3</th><th scope=col>m4</th><th scope=col>m5</th></tr>\n",
       "\t<tr><th></th><th scope=col>&lt;chr&gt;</th><th scope=col>&lt;int&gt;</th><th scope=col>&lt;int&gt;</th><th scope=col>&lt;chr&gt;</th><th scope=col>&lt;chr&gt;</th><th scope=col>&lt;int&gt;</th><th scope=col>&lt;int&gt;</th><th scope=col>&lt;int&gt;</th><th scope=col>&lt;int&gt;</th><th scope=col>&lt;int&gt;</th></tr>\n",
       "</thead>\n",
       "<tbody>\n",
       "\t<tr><th scope=row>1</th><td>raja</td><td>101</td><td>19</td><td>male  </td><td>cse </td><td>90</td><td>95</td><td>85</td><td>70</td><td>67</td></tr>\n",
       "\t<tr><th scope=row>2</th><td>soma</td><td>103</td><td>20</td><td>male  </td><td>mech</td><td>79</td><td>85</td><td>25</td><td>40</td><td>67</td></tr>\n",
       "\t<tr><th scope=row>3</th><td>roja</td><td>104</td><td>18</td><td>female</td><td>eee </td><td>88</td><td>90</td><td>85</td><td>60</td><td>89</td></tr>\n",
       "</tbody>\n",
       "</table>\n"
      ],
      "text/latex": [
       "A data.frame: 3 × 10\n",
       "\\begin{tabular}{r|llllllllll}\n",
       "  & sname & sroll & sage & ssex & branch & m1 & m2 & m3 & m4 & m5\\\\\n",
       "  & <chr> & <int> & <int> & <chr> & <chr> & <int> & <int> & <int> & <int> & <int>\\\\\n",
       "\\hline\n",
       "\t1 & raja & 101 & 19 & male   & cse  & 90 & 95 & 85 & 70 & 67\\\\\n",
       "\t2 & soma & 103 & 20 & male   & mech & 79 & 85 & 25 & 40 & 67\\\\\n",
       "\t3 & roja & 104 & 18 & female & eee  & 88 & 90 & 85 & 60 & 89\\\\\n",
       "\\end{tabular}\n"
      ],
      "text/markdown": [
       "\n",
       "A data.frame: 3 × 10\n",
       "\n",
       "| <!--/--> | sname &lt;chr&gt; | sroll &lt;int&gt; | sage &lt;int&gt; | ssex &lt;chr&gt; | branch &lt;chr&gt; | m1 &lt;int&gt; | m2 &lt;int&gt; | m3 &lt;int&gt; | m4 &lt;int&gt; | m5 &lt;int&gt; |\n",
       "|---|---|---|---|---|---|---|---|---|---|---|\n",
       "| 1 | raja | 101 | 19 | male   | cse  | 90 | 95 | 85 | 70 | 67 |\n",
       "| 2 | soma | 103 | 20 | male   | mech | 79 | 85 | 25 | 40 | 67 |\n",
       "| 3 | roja | 104 | 18 | female | eee  | 88 | 90 | 85 | 60 | 89 |\n",
       "\n"
      ],
      "text/plain": [
       "  sname sroll sage ssex   branch m1 m2 m3 m4 m5\n",
       "1 raja  101   19   male   cse    90 95 85 70 67\n",
       "2 soma  103   20   male   mech   79 85 25 40 67\n",
       "3 roja  104   18   female eee    88 90 85 60 89"
      ]
     },
     "metadata": {},
     "output_type": "display_data"
    },
    {
     "data": {
      "text/html": [
       "3"
      ],
      "text/latex": [
       "3"
      ],
      "text/markdown": [
       "3"
      ],
      "text/plain": [
       "[1] 3"
      ]
     },
     "metadata": {},
     "output_type": "display_data"
    },
    {
     "data": {
      "text/html": [
       "10"
      ],
      "text/latex": [
       "10"
      ],
      "text/markdown": [
       "10"
      ],
      "text/plain": [
       "[1] 10"
      ]
     },
     "metadata": {},
     "output_type": "display_data"
    },
    {
     "data": {
      "text/html": [
       "<table class=\"dataframe\">\n",
       "<caption>A data.frame: 3 × 13</caption>\n",
       "<thead>\n",
       "\t<tr><th></th><th scope=col>sname</th><th scope=col>sroll</th><th scope=col>sage</th><th scope=col>ssex</th><th scope=col>branch</th><th scope=col>m1</th><th scope=col>m2</th><th scope=col>m3</th><th scope=col>m4</th><th scope=col>m5</th><th scope=col>result</th><th scope=col>Total</th><th scope=col>ptge</th></tr>\n",
       "\t<tr><th></th><th scope=col>&lt;chr&gt;</th><th scope=col>&lt;int&gt;</th><th scope=col>&lt;int&gt;</th><th scope=col>&lt;chr&gt;</th><th scope=col>&lt;chr&gt;</th><th scope=col>&lt;int&gt;</th><th scope=col>&lt;int&gt;</th><th scope=col>&lt;int&gt;</th><th scope=col>&lt;int&gt;</th><th scope=col>&lt;int&gt;</th><th scope=col>&lt;chr&gt;</th><th scope=col>&lt;dbl&gt;</th><th scope=col>&lt;dbl&gt;</th></tr>\n",
       "</thead>\n",
       "<tbody>\n",
       "\t<tr><th scope=row>1</th><td>raja</td><td>101</td><td>19</td><td>male  </td><td>cse </td><td>90</td><td>95</td><td>85</td><td>70</td><td>67</td><td>Pass</td><td>407</td><td>81.4</td></tr>\n",
       "\t<tr><th scope=row>2</th><td>soma</td><td>103</td><td>20</td><td>male  </td><td>mech</td><td>79</td><td>85</td><td>25</td><td>40</td><td>67</td><td>Fail</td><td>296</td><td>59.2</td></tr>\n",
       "\t<tr><th scope=row>3</th><td>roja</td><td>104</td><td>18</td><td>female</td><td>eee </td><td>88</td><td>90</td><td>85</td><td>60</td><td>89</td><td>Pass</td><td>412</td><td>82.4</td></tr>\n",
       "</tbody>\n",
       "</table>\n"
      ],
      "text/latex": [
       "A data.frame: 3 × 13\n",
       "\\begin{tabular}{r|lllllllllllll}\n",
       "  & sname & sroll & sage & ssex & branch & m1 & m2 & m3 & m4 & m5 & result & Total & ptge\\\\\n",
       "  & <chr> & <int> & <int> & <chr> & <chr> & <int> & <int> & <int> & <int> & <int> & <chr> & <dbl> & <dbl>\\\\\n",
       "\\hline\n",
       "\t1 & raja & 101 & 19 & male   & cse  & 90 & 95 & 85 & 70 & 67 & Pass & 407 & 81.4\\\\\n",
       "\t2 & soma & 103 & 20 & male   & mech & 79 & 85 & 25 & 40 & 67 & Fail & 296 & 59.2\\\\\n",
       "\t3 & roja & 104 & 18 & female & eee  & 88 & 90 & 85 & 60 & 89 & Pass & 412 & 82.4\\\\\n",
       "\\end{tabular}\n"
      ],
      "text/markdown": [
       "\n",
       "A data.frame: 3 × 13\n",
       "\n",
       "| <!--/--> | sname &lt;chr&gt; | sroll &lt;int&gt; | sage &lt;int&gt; | ssex &lt;chr&gt; | branch &lt;chr&gt; | m1 &lt;int&gt; | m2 &lt;int&gt; | m3 &lt;int&gt; | m4 &lt;int&gt; | m5 &lt;int&gt; | result &lt;chr&gt; | Total &lt;dbl&gt; | ptge &lt;dbl&gt; |\n",
       "|---|---|---|---|---|---|---|---|---|---|---|---|---|---|\n",
       "| 1 | raja | 101 | 19 | male   | cse  | 90 | 95 | 85 | 70 | 67 | Pass | 407 | 81.4 |\n",
       "| 2 | soma | 103 | 20 | male   | mech | 79 | 85 | 25 | 40 | 67 | Fail | 296 | 59.2 |\n",
       "| 3 | roja | 104 | 18 | female | eee  | 88 | 90 | 85 | 60 | 89 | Pass | 412 | 82.4 |\n",
       "\n"
      ],
      "text/plain": [
       "  sname sroll sage ssex   branch m1 m2 m3 m4 m5 result Total ptge\n",
       "1 raja  101   19   male   cse    90 95 85 70 67 Pass   407   81.4\n",
       "2 soma  103   20   male   mech   79 85 25 40 67 Fail   296   59.2\n",
       "3 roja  104   18   female eee    88 90 85 60 89 Pass   412   82.4"
      ]
     },
     "metadata": {},
     "output_type": "display_data"
    }
   ],
   "source": [
    "sdata <- read.table(file.choose(), sep = \" \", header = TRUE)\n",
    "head(sdata); nrow(sdata); ncol(sdata)\n",
    "\n",
    "# Calculate Total and Percentage\n",
    "marks <- sdata[, paste0(\"m\", 1:5)]\n",
    "Total <- rowSums(marks)\n",
    "ptge <- Total / 5\n",
    "\n",
    "# Determine Pass/Fail (vectorized)\n",
    "result <- ifelse(apply(marks > 50, 1, all), \"Pass\", \"Fail\")\n",
    "\n",
    "# Add results to the original data\n",
    "sdata <- cbind(sdata, result, Total, ptge)\n",
    "sdata\n"
   ]
  },
  {
   "cell_type": "code",
   "execution_count": null,
   "id": "468a0ca9",
   "metadata": {
    "vscode": {
     "languageId": "r"
    }
   },
   "outputs": [],
   "source": []
  }
 ],
 "metadata": {
  "kernelspec": {
   "display_name": "R",
   "language": "R",
   "name": "ir"
  },
  "language_info": {
   "codemirror_mode": "r",
   "file_extension": ".r",
   "mimetype": "text/x-r-source",
   "name": "R",
   "pygments_lexer": "r",
   "version": "4.4.2"
  }
 },
 "nbformat": 4,
 "nbformat_minor": 5
}
