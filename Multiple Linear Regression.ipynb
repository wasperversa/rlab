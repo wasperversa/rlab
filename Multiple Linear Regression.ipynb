{
 "cells": [
  {
   "cell_type": "code",
   "execution_count": 1,
   "id": "57536166",
   "metadata": {
    "vscode": {
     "languageId": "r"
    }
   },
   "outputs": [
    {
     "data": {
      "text/plain": [
       "\n",
       "Call:\n",
       "lm(formula = mpg ~ wt + hp, data = mtcars)\n",
       "\n",
       "Residuals:\n",
       "   Min     1Q Median     3Q    Max \n",
       "-3.941 -1.600 -0.182  1.050  5.854 \n",
       "\n",
       "Coefficients:\n",
       "            Estimate Std. Error t value Pr(>|t|)    \n",
       "(Intercept) 37.22727    1.59879  23.285  < 2e-16 ***\n",
       "wt          -3.87783    0.63273  -6.129 1.12e-06 ***\n",
       "hp          -0.03177    0.00903  -3.519  0.00145 ** \n",
       "---\n",
       "Signif. codes:  0 '***' 0.001 '**' 0.01 '*' 0.05 '.' 0.1 ' ' 1\n",
       "\n",
       "Residual standard error: 2.593 on 29 degrees of freedom\n",
       "Multiple R-squared:  0.8268,\tAdjusted R-squared:  0.8148 \n",
       "F-statistic: 69.21 on 2 and 29 DF,  p-value: 9.109e-12\n"
      ]
     },
     "metadata": {},
     "output_type": "display_data"
    }
   ],
   "source": [
    "model2 <- lm(mpg ~ wt + hp, data = mtcars)\n",
    "summary(model2)"
   ]
  },
  {
   "cell_type": "code",
   "execution_count": 2,
   "id": "58cbba2c",
   "metadata": {
    "vscode": {
     "languageId": "r"
    }
   },
   "outputs": [
    {
     "data": {
      "text/html": [
       "<strong>1:</strong> 18.7951328403412"
      ],
      "text/latex": [
       "\\textbf{1:} 18.7951328403412"
      ],
      "text/markdown": [
       "**1:** 18.7951328403412"
      ],
      "text/plain": [
       "       1 \n",
       "18.79513 "
      ]
     },
     "metadata": {},
     "output_type": "display_data"
    }
   ],
   "source": [
    "# Predictions for (wt = 2.5, hp = 275)\n",
    "predict(model2, newdata = data.frame(wt = 2.5, hp = 275))"
   ]
  },
  {
   "cell_type": "code",
   "execution_count": null,
   "id": "b90e40ec",
   "metadata": {
    "vscode": {
     "languageId": "r"
    }
   },
   "outputs": [],
   "source": []
  }
 ],
 "metadata": {
  "kernelspec": {
   "display_name": "R",
   "language": "R",
   "name": "ir"
  },
  "language_info": {
   "codemirror_mode": "r",
   "file_extension": ".r",
   "mimetype": "text/x-r-source",
   "name": "R",
   "pygments_lexer": "r",
   "version": "4.4.2"
  }
 },
 "nbformat": 4,
 "nbformat_minor": 5
}
