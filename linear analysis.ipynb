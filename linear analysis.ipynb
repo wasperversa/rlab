{
 "cells": [
  {
   "cell_type": "code",
   "execution_count": null,
   "id": "0cf1248f-d998-4a48-8f50-d802137cfc1d",
   "metadata": {
    "vscode": {
     "languageId": "r"
    }
   },
   "outputs": [
    {
     "data": {
      "text/html": [
       "<table class=\"dataframe\">\n",
       "<caption>A data.frame: 15 × 2</caption>\n",
       "<thead>\n",
       "\t<tr><th></th><th scope=col>height</th><th scope=col>weight</th></tr>\n",
       "\t<tr><th></th><th scope=col>&lt;dbl&gt;</th><th scope=col>&lt;dbl&gt;</th></tr>\n",
       "</thead>\n",
       "<tbody>\n",
       "\t<tr><th scope=row>1</th><td>58</td><td>115</td></tr>\n",
       "\t<tr><th scope=row>2</th><td>59</td><td>117</td></tr>\n",
       "\t<tr><th scope=row>3</th><td>60</td><td>120</td></tr>\n",
       "\t<tr><th scope=row>4</th><td>61</td><td>123</td></tr>\n",
       "\t<tr><th scope=row>5</th><td>62</td><td>126</td></tr>\n",
       "\t<tr><th scope=row>6</th><td>63</td><td>129</td></tr>\n",
       "\t<tr><th scope=row>7</th><td>64</td><td>132</td></tr>\n",
       "\t<tr><th scope=row>8</th><td>65</td><td>135</td></tr>\n",
       "\t<tr><th scope=row>9</th><td>66</td><td>139</td></tr>\n",
       "\t<tr><th scope=row>10</th><td>67</td><td>142</td></tr>\n",
       "\t<tr><th scope=row>11</th><td>68</td><td>146</td></tr>\n",
       "\t<tr><th scope=row>12</th><td>69</td><td>150</td></tr>\n",
       "\t<tr><th scope=row>13</th><td>70</td><td>154</td></tr>\n",
       "\t<tr><th scope=row>14</th><td>71</td><td>159</td></tr>\n",
       "\t<tr><th scope=row>15</th><td>72</td><td>164</td></tr>\n",
       "</tbody>\n",
       "</table>\n"
      ],
      "text/latex": [
       "A data.frame: 15 × 2\n",
       "\\begin{tabular}{r|ll}\n",
       "  & height & weight\\\\\n",
       "  & <dbl> & <dbl>\\\\\n",
       "\\hline\n",
       "\t1 & 58 & 115\\\\\n",
       "\t2 & 59 & 117\\\\\n",
       "\t3 & 60 & 120\\\\\n",
       "\t4 & 61 & 123\\\\\n",
       "\t5 & 62 & 126\\\\\n",
       "\t6 & 63 & 129\\\\\n",
       "\t7 & 64 & 132\\\\\n",
       "\t8 & 65 & 135\\\\\n",
       "\t9 & 66 & 139\\\\\n",
       "\t10 & 67 & 142\\\\\n",
       "\t11 & 68 & 146\\\\\n",
       "\t12 & 69 & 150\\\\\n",
       "\t13 & 70 & 154\\\\\n",
       "\t14 & 71 & 159\\\\\n",
       "\t15 & 72 & 164\\\\\n",
       "\\end{tabular}\n"
      ],
      "text/markdown": [
       "\n",
       "A data.frame: 15 × 2\n",
       "\n",
       "| <!--/--> | height &lt;dbl&gt; | weight &lt;dbl&gt; |\n",
       "|---|---|---|\n",
       "| 1 | 58 | 115 |\n",
       "| 2 | 59 | 117 |\n",
       "| 3 | 60 | 120 |\n",
       "| 4 | 61 | 123 |\n",
       "| 5 | 62 | 126 |\n",
       "| 6 | 63 | 129 |\n",
       "| 7 | 64 | 132 |\n",
       "| 8 | 65 | 135 |\n",
       "| 9 | 66 | 139 |\n",
       "| 10 | 67 | 142 |\n",
       "| 11 | 68 | 146 |\n",
       "| 12 | 69 | 150 |\n",
       "| 13 | 70 | 154 |\n",
       "| 14 | 71 | 159 |\n",
       "| 15 | 72 | 164 |\n",
       "\n"
      ],
      "text/plain": [
       "   height weight\n",
       "1  58     115   \n",
       "2  59     117   \n",
       "3  60     120   \n",
       "4  61     123   \n",
       "5  62     126   \n",
       "6  63     129   \n",
       "7  64     132   \n",
       "8  65     135   \n",
       "9  66     139   \n",
       "10 67     142   \n",
       "11 68     146   \n",
       "12 69     150   \n",
       "13 70     154   \n",
       "14 71     159   \n",
       "15 72     164   "
      ]
     },
     "metadata": {},
     "output_type": "display_data"
    },
    {
     "data": {
      "image/png": "[encoded data removed]",
      "text/plain": [
       "Plot with title “ScatterPlot”"
      ]
     },
     "metadata": {
      "image/png": {
       "height": 420,
       "width": 420
      }
     },
     "output_type": "display_data"
    }
   ],
   "source": [
    "# Analysis of the Positive Relationship between Height and Weight of Women Using Correlation Coefficients\n",
    "# Loading the Women Dataset\n",
    "head(women,15)\n",
    "#Scatter Plot\n",
    "library(ggplot2)\n",
    "scatter.smooth(women$height,women$weight,main=\"ScatterPlot\",xlab=\"Height\",ylab=\"Wei\n",
    "ght\")\n"
   ]
  },
  {
   "cell_type": "code",
   "execution_count": 2,
   "id": "7d257277-ce90-4577-9e2a-34a919f09546",
   "metadata": {
    "vscode": {
     "languageId": "r"
    }
   },
   "outputs": [],
   "source": [
    "c11=cov(women$height,women$height)\n",
    "c12=cov(women$height,women$weight)\n",
    "c21=cov(women$weight,women$weight)\n",
    "c22=cov(women$weight,women$height)"
   ]
  },
  {
   "cell_type": "code",
   "execution_count": 5,
   "id": "ba0a6b91-2758-4617-bf82-daabe8ab4dd9",
   "metadata": {
    "vscode": {
     "languageId": "r"
    }
   },
   "outputs": [],
   "source": [
    "cm1=matrix(data = c(c11,c12,c21,c22),nrow = 2,byrow = TRUE)"
   ]
  },
  {
   "cell_type": "code",
   "execution_count": 19,
   "id": "c8db20bb-8d0c-456e-9b35-204fffc0e6e9",
   "metadata": {
    "vscode": {
     "languageId": "r"
    }
   },
   "outputs": [
    {
     "name": "stdout",
     "output_type": "stream",
     "text": [
      "covariance matrix\n"
     ]
    },
    {
     "data": {
      "text/html": [
       "<table class=\"dataframe\">\n",
       "<caption>A matrix: 2 × 2 of type dbl</caption>\n",
       "<tbody>\n",
       "\t<tr><td> 20.0000</td><td>69</td></tr>\n",
       "\t<tr><td>240.2095</td><td>69</td></tr>\n",
       "</tbody>\n",
       "</table>\n"
      ],
      "text/latex": [
       "A matrix: 2 × 2 of type dbl\n",
       "\\begin{tabular}{ll}\n",
       "\t  20.0000 & 69\\\\\n",
       "\t 240.2095 & 69\\\\\n",
       "\\end{tabular}\n"
      ],
      "text/markdown": [
       "\n",
       "A matrix: 2 × 2 of type dbl\n",
       "\n",
       "|  20.0000 | 69 |\n",
       "| 240.2095 | 69 |\n",
       "\n"
      ],
      "text/plain": [
       "     [,1]     [,2]\n",
       "[1,]  20.0000 69  \n",
       "[2,] 240.2095 69  "
      ]
     },
     "metadata": {},
     "output_type": "display_data"
    }
   ],
   "source": [
    "cat('covariance matrix\\n')\n",
    "cm1"
   ]
  },
  {
   "cell_type": "code",
   "execution_count": 20,
   "id": "c6b69f3e-65f3-4bc3-b8ae-5799051be2a1",
   "metadata": {
    "vscode": {
     "languageId": "r"
    }
   },
   "outputs": [
    {
     "name": "stdout",
     "output_type": "stream",
     "text": [
      "Covariance Matrix"
     ]
    },
    {
     "data": {
      "text/html": [
       "<table class=\"dataframe\">\n",
       "<caption>A matrix: 2 × 2 of type dbl</caption>\n",
       "<thead>\n",
       "\t<tr><th></th><th scope=col>height</th><th scope=col>weight</th></tr>\n",
       "</thead>\n",
       "<tbody>\n",
       "\t<tr><th scope=row>height</th><td>20</td><td> 69.0000</td></tr>\n",
       "\t<tr><th scope=row>weight</th><td>69</td><td>240.2095</td></tr>\n",
       "</tbody>\n",
       "</table>\n"
      ],
      "text/latex": [
       "A matrix: 2 × 2 of type dbl\n",
       "\\begin{tabular}{r|ll}\n",
       "  & height & weight\\\\\n",
       "\\hline\n",
       "\theight & 20 &  69.0000\\\\\n",
       "\tweight & 69 & 240.2095\\\\\n",
       "\\end{tabular}\n"
      ],
      "text/markdown": [
       "\n",
       "A matrix: 2 × 2 of type dbl\n",
       "\n",
       "| <!--/--> | height | weight |\n",
       "|---|---|---|\n",
       "| height | 20 |  69.0000 |\n",
       "| weight | 69 | 240.2095 |\n",
       "\n"
      ],
      "text/plain": [
       "       height weight  \n",
       "height 20      69.0000\n",
       "weight 69     240.2095"
      ]
     },
     "metadata": {},
     "output_type": "display_data"
    }
   ],
   "source": [
    "cat(\"Covariance Matrix\")\n",
    "cov(women)"
   ]
  },
  {
   "cell_type": "code",
   "execution_count": 21,
   "id": "d7735298-24ee-4c91-b3db-91f30721e2b7",
   "metadata": {
    "vscode": {
     "languageId": "r"
    }
   },
   "outputs": [],
   "source": [
    "cc11 = cor(women$height,women$height)\n",
    "cc12 = cor(women$height,women$weight)\n",
    "cc21 = cor(women$weight,women$height)\n",
    "cc22 = cor(women$weight,women$weight)"
   ]
  },
  {
   "cell_type": "code",
   "execution_count": 22,
   "id": "c2636c65-b7cc-4c4f-a263-a9167a0db6ab",
   "metadata": {
    "vscode": {
     "languageId": "r"
    }
   },
   "outputs": [],
   "source": [
    "cc1 = matrix(data = c(cc11,cc12,cc21,cc22), nrow = 2, byrow = TRUE)\n"
   ]
  },
  {
   "cell_type": "code",
   "execution_count": 24,
   "id": "b4eccf94-c4d8-47d1-8fb0-6e0400543787",
   "metadata": {
    "vscode": {
     "languageId": "r"
    }
   },
   "outputs": [
    {
     "name": "stdout",
     "output_type": "stream",
     "text": [
      "Pearson's Correlation Coefficients"
     ]
    },
    {
     "data": {
      "text/html": [
       "<table class=\"dataframe\">\n",
       "<caption>A matrix: 2 × 2 of type dbl</caption>\n",
       "<tbody>\n",
       "\t<tr><td>1.0000000</td><td>0.9954948</td></tr>\n",
       "\t<tr><td>0.9954948</td><td>1.0000000</td></tr>\n",
       "</tbody>\n",
       "</table>\n"
      ],
      "text/latex": [
       "A matrix: 2 × 2 of type dbl\n",
       "\\begin{tabular}{ll}\n",
       "\t 1.0000000 & 0.9954948\\\\\n",
       "\t 0.9954948 & 1.0000000\\\\\n",
       "\\end{tabular}\n"
      ],
      "text/markdown": [
       "\n",
       "A matrix: 2 × 2 of type dbl\n",
       "\n",
       "| 1.0000000 | 0.9954948 |\n",
       "| 0.9954948 | 1.0000000 |\n",
       "\n"
      ],
      "text/plain": [
       "     [,1]      [,2]     \n",
       "[1,] 1.0000000 0.9954948\n",
       "[2,] 0.9954948 1.0000000"
      ]
     },
     "metadata": {},
     "output_type": "display_data"
    }
   ],
   "source": [
    "cat(\"Pearson's Correlation Coefficients\")\n",
    "cc1"
   ]
  },
  {
   "cell_type": "code",
   "execution_count": 25,
   "id": "a00761a8-9325-452c-af63-30bc62c812ce",
   "metadata": {
    "vscode": {
     "languageId": "r"
    }
   },
   "outputs": [
    {
     "name": "stdout",
     "output_type": "stream",
     "text": [
      "Pearson's Correlation Coefficients"
     ]
    },
    {
     "data": {
      "text/html": [
       "<table class=\"dataframe\">\n",
       "<caption>A matrix: 2 × 2 of type dbl</caption>\n",
       "<thead>\n",
       "\t<tr><th></th><th scope=col>height</th><th scope=col>weight</th></tr>\n",
       "</thead>\n",
       "<tbody>\n",
       "\t<tr><th scope=row>height</th><td>1.0000000</td><td>0.9954948</td></tr>\n",
       "\t<tr><th scope=row>weight</th><td>0.9954948</td><td>1.0000000</td></tr>\n",
       "</tbody>\n",
       "</table>\n"
      ],
      "text/latex": [
       "A matrix: 2 × 2 of type dbl\n",
       "\\begin{tabular}{r|ll}\n",
       "  & height & weight\\\\\n",
       "\\hline\n",
       "\theight & 1.0000000 & 0.9954948\\\\\n",
       "\tweight & 0.9954948 & 1.0000000\\\\\n",
       "\\end{tabular}\n"
      ],
      "text/markdown": [
       "\n",
       "A matrix: 2 × 2 of type dbl\n",
       "\n",
       "| <!--/--> | height | weight |\n",
       "|---|---|---|\n",
       "| height | 1.0000000 | 0.9954948 |\n",
       "| weight | 0.9954948 | 1.0000000 |\n",
       "\n"
      ],
      "text/plain": [
       "       height    weight   \n",
       "height 1.0000000 0.9954948\n",
       "weight 0.9954948 1.0000000"
      ]
     },
     "metadata": {},
     "output_type": "display_data"
    }
   ],
   "source": [
    "cat(\"Pearson's Correlation Coefficients\")\n",
    "cor(women)"
   ]
  },
  {
   "cell_type": "code",
   "execution_count": 26,
   "id": "22182b35-f03a-4267-86f5-44d519a7d043",
   "metadata": {
    "vscode": {
     "languageId": "r"
    }
   },
   "outputs": [
    {
     "name": "stdout",
     "output_type": "stream",
     "text": [
      "Spearman's Correlation Coefficients"
     ]
    },
    {
     "data": {
      "text/html": [
       "<table class=\"dataframe\">\n",
       "<caption>A matrix: 2 × 2 of type dbl</caption>\n",
       "<thead>\n",
       "\t<tr><th></th><th scope=col>height</th><th scope=col>weight</th></tr>\n",
       "</thead>\n",
       "<tbody>\n",
       "\t<tr><th scope=row>height</th><td>1</td><td>1</td></tr>\n",
       "\t<tr><th scope=row>weight</th><td>1</td><td>1</td></tr>\n",
       "</tbody>\n",
       "</table>\n"
      ],
      "text/latex": [
       "A matrix: 2 × 2 of type dbl\n",
       "\\begin{tabular}{r|ll}\n",
       "  & height & weight\\\\\n",
       "\\hline\n",
       "\theight & 1 & 1\\\\\n",
       "\tweight & 1 & 1\\\\\n",
       "\\end{tabular}\n"
      ],
      "text/markdown": [
       "\n",
       "A matrix: 2 × 2 of type dbl\n",
       "\n",
       "| <!--/--> | height | weight |\n",
       "|---|---|---|\n",
       "| height | 1 | 1 |\n",
       "| weight | 1 | 1 |\n",
       "\n"
      ],
      "text/plain": [
       "       height weight\n",
       "height 1      1     \n",
       "weight 1      1     "
      ]
     },
     "metadata": {},
     "output_type": "display_data"
    }
   ],
   "source": [
    "cc3 = cor(women,method = \"spearman\")\n",
    "cat(\"Spearman's Correlation Coefficients\")\n",
    "cc3"
   ]
  },
  {
   "cell_type": "code",
   "execution_count": 27,
   "id": "4a4f45dd-2db1-4c1c-851d-1ad86d96beaf",
   "metadata": {
    "vscode": {
     "languageId": "r"
    }
   },
   "outputs": [
    {
     "name": "stdout",
     "output_type": "stream",
     "text": [
      "[1] \"Relationship b/w Women's Weight and Height is Positive\"\n"
     ]
    }
   ],
   "source": [
    "if(cc11 > 0)\n",
    "{\n",
    "print(\"Relationship b/w Women's Weight and Height is Positive\")\n",
    "} else {\n",
    "print(\"Relationship b/w Women's Weight and Height is Negative\")}"
   ]
  }
 ],
 "metadata": {
  "kernelspec": {
   "display_name": "R",
   "language": "R",
   "name": "ir"
  },
  "language_info": {
   "codemirror_mode": "r",
   "file_extension": ".r",
   "mimetype": "text/x-r-source",
   "name": "R",
   "pygments_lexer": "r",
   "version": "4.3.3"
  }
 },
 "nbformat": 4,
 "nbformat_minor": 5
}
