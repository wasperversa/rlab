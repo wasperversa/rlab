{
 "cells": [
  {
   "cell_type": "code",
   "execution_count": 1,
   "id": "6a7c821e-a373-4e25-b669-48afb2e6abc6",
   "metadata": {
    "vscode": {
     "languageId": "r"
    }
   },
   "outputs": [],
   "source": [
    "uvtrain <- function(hdata)\n",
    "{\n",
    "    xv=vector(mode=\"numeric\",length=0)\n",
    "    pv=vector(mode=\"numeric\",length=0)\n",
    "    hmin=min(hdata)-15\n",
    "    hmax=max(hdata)+15\n",
    "    m=mean(hdata)\n",
    "    v=var(hdata)\n",
    "    cat(\"Mean: \",m,\"\\n\")\n",
    "    cat(\"Variance: \",v)\n",
    "    for(x in hmin:hmax)\n",
    "    {\n",
    "        p=dnorm(x,m,sqrt(v))\n",
    "        xv=c(xv,x)\n",
    "        pv=c(pv,p)\n",
    "\n",
    "    }\n",
    "    plot(xv,pv,xlab=\"height of the person\",ylab=\"p(X)\",main=\"Univariate normal Distribution\",col=\"blue\")\n",
    "    return(c(m,v))\n",
    "}"
   ]
  },
  {
   "cell_type": "code",
   "execution_count": 2,
   "id": "2f1195e2-836c-44f4-951c-fdc279a3536a",
   "metadata": {
    "vscode": {
     "languageId": "r"
    }
   },
   "outputs": [],
   "source": [
    "uvtest <- function(m,v,ht)\n",
    "{\n",
    "  pt=dnorm(ht,m,sqrt(v))\n",
    "  if (pt >= 0.00005)\n",
    "  cat(\"the given height of the person is adult\")\n",
    "  else\n",
    "  cat(\"the give height of the person is not adult\")\n",
    "\n",
    "}"
   ]
  },
  {
   "cell_type": "code",
   "execution_count": 3,
   "id": "47085c1c-0222-4444-8618-e262d03d656c",
   "metadata": {
    "vscode": {
     "languageId": "r"
    }
   },
   "outputs": [],
   "source": [
    "hdata <- c(165, 170, 160, 154, 175, 155, 167, 177, 158, 178)"
   ]
  },
  {
   "cell_type": "code",
   "execution_count": 4,
   "id": "c72790bd-cc67-48b1-bbcd-d8439f4132f0",
   "metadata": {
    "vscode": {
     "languageId": "r"
    }
   },
   "outputs": [
    {
     "name": "stdout",
     "output_type": "stream",
     "text": [
      "Mean:  165.9 \n",
      "Variance:  80.98889"
     ]
    },
    {
     "data": {
      "image/png": "[encoded data removed]",
      "text/plain": [
       "Plot with title \"Univariate normal Distribution\""
      ]
     },
     "metadata": {
      "image/png": {
       "height": 420,
       "width": 420
      }
     },
     "output_type": "display_data"
    }
   ],
   "source": [
    "mv = uvtrain(hdata)"
   ]
  },
  {
   "cell_type": "code",
   "execution_count": 5,
   "id": "97929e81",
   "metadata": {
    "vscode": {
     "languageId": "r"
    }
   },
   "outputs": [
    {
     "name": "stdout",
     "output_type": "stream",
     "text": [
      "the give height of the person is not adult"
     ]
    }
   ],
   "source": [
    "ht=as.numeric(readline(prompt=\"Enter the height of the person:\"))\n",
    "uvtest(mv[1],mv[2],ht)"
   ]
  },
  {
   "cell_type": "code",
   "execution_count": null,
   "id": "68f46486",
   "metadata": {
    "vscode": {
     "languageId": "r"
    }
   },
   "outputs": [],
   "source": []
  }
 ],
 "metadata": {
  "kernelspec": {
   "display_name": "R",
   "language": "R",
   "name": "ir"
  },
  "language_info": {
   "codemirror_mode": "r",
   "file_extension": ".r",
   "mimetype": "text/x-r-source",
   "name": "R",
   "pygments_lexer": "r",
   "version": "4.4.2"
  }
 },
 "nbformat": 4,
 "nbformat_minor": 5
}
