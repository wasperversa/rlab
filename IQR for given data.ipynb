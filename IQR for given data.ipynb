{
 "cells": [
  {
   "cell_type": "code",
   "execution_count": 1,
   "id": "7fcdbb9f",
   "metadata": {
    "vscode": {
     "languageId": "r"
    }
   },
   "outputs": [
    {
     "name": "stdout",
     "output_type": "stream",
     "text": [
      "Minimum = 5 \n",
      "Lower Quartile = 12 \n",
      "Median = 20 \n",
      "Upper Quartile = 27 \n",
      "Maximum = 35 \n",
      "All the Quartiles: 5 12 20 27 35 \n"
     ]
    },
    {
     "data": {
      "text/plain": [
       "   Min. 1st Qu.  Median    Mean 3rd Qu.    Max. \n",
       "   5.00   12.00   20.00   19.89   27.00   35.00 "
      ]
     },
     "metadata": {},
     "output_type": "display_data"
    },
    {
     "name": "stdout",
     "output_type": "stream",
     "text": [
      "IQR (computed manually) = 15 \n",
      "IQR (using IQR function) = 15 \n"
     ]
    },
    {
     "data": {
      "image/png": "[encoded data removed]",
      "text/plain": [
       "Plot with title \"Interquartile Range (IQR)\""
      ]
     },
     "metadata": {
      "image/png": {
       "height": 420,
       "width": 420
      }
     },
     "output_type": "display_data"
    }
   ],
   "source": [
    "xdata <- c(5, 10, 12, 15, 20, 25, 27, 30, 35)\n",
    "\n",
    "# Compute Minimum, First Quartile, Median, Third Quartile, and Maximum Quartiles\n",
    "MinQ <- quantile(xdata, 0)\n",
    "FQ <- quantile(xdata, 0.25)\n",
    "SQ <- quantile(xdata, 0.5)\n",
    "TQ <- quantile(xdata, 0.75)\n",
    "MaxQ <- quantile(xdata, 1)\n",
    "\n",
    "# Print each Quartile\n",
    "cat(\"Minimum =\", MinQ, \"\\n\")\n",
    "cat(\"Lower Quartile =\", FQ, \"\\n\")\n",
    "cat(\"Median =\", SQ, \"\\n\")\n",
    "cat(\"Upper Quartile =\", TQ, \"\\n\")\n",
    "cat(\"Maximum =\", MaxQ, \"\\n\")\n",
    "\n",
    "# Compute All the Quartiles (Min, First, Second or Median, Third, and Max)\n",
    "AQ <- quantile(xdata, prob = c(0, 0.25, 0.5, 0.75, 1))\n",
    "\n",
    "# Print All the Quartiles\n",
    "cat(\"All the Quartiles:\", AQ, \"\\n\")\n",
    "\n",
    "# Summary statistics of xdata\n",
    "summary(xdata)\n",
    "\n",
    "# Draw a box plot for xdata\n",
    "boxplot(xdata, main = \"Interquartile Range (IQR)\", ylab = \"xdata\")\n",
    "\n",
    "# IQR computation: Difference between the upper and lower quartiles\n",
    "IQR_value <- as.numeric(quantile(xdata, 0.75) - quantile(xdata, 0.25))\n",
    "cat(\"IQR (computed manually) =\", IQR_value, \"\\n\")\n",
    "\n",
    "# Use IQR function to calculate Interquartile Range\n",
    "cat(\"IQR (using IQR function) =\", IQR(xdata), \"\\n\")\n"
   ]
  },
  {
   "cell_type": "code",
   "execution_count": null,
   "id": "a753a223",
   "metadata": {
    "vscode": {
     "languageId": "r"
    }
   },
   "outputs": [],
   "source": []
  }
 ],
 "metadata": {
  "kernelspec": {
   "display_name": "R",
   "language": "R",
   "name": "ir"
  },
  "language_info": {
   "codemirror_mode": "r",
   "file_extension": ".r",
   "mimetype": "text/x-r-source",
   "name": "R",
   "pygments_lexer": "r",
   "version": "4.4.2"
  }
 },
 "nbformat": 4,
 "nbformat_minor": 5
}
