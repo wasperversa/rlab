{
 "cells": [
  {
   "cell_type": "code",
   "execution_count": 1,
   "id": "135c0fca",
   "metadata": {
    "vscode": {
     "languageId": "r"
    }
   },
   "outputs": [],
   "source": [
    "# Creating matrices\n",
    "A <- matrix(c(3, 2, 9, 5), nrow = 2, byrow = TRUE)\n",
    "B <- matrix(c(7, 1, 6, 4), nrow = 2)\n",
    "C <- rbind(c(1, 2, 3), c(6, 5, 4))\n",
    "D <- cbind(c(9, 5, 1), c(3, 2, 7))"
   ]
  },
  {
   "cell_type": "code",
   "execution_count": 2,
   "id": "75d2ea69",
   "metadata": {
    "vscode": {
     "languageId": "r"
    }
   },
   "outputs": [
    {
     "name": "stdout",
     "output_type": "stream",
     "text": [
      "[1] \"Matrix A\"\n",
      "     [,1] [,2]\n",
      "[1,]    3    2\n",
      "[2,]    9    5\n",
      "[1] \"Matrix B\"\n",
      "     [,1] [,2]\n",
      "[1,]    7    6\n",
      "[2,]    1    4\n",
      "[1] \"Matrix C\"\n",
      "     [,1] [,2] [,3]\n",
      "[1,]    1    2    3\n",
      "[2,]    6    5    4\n",
      "[1] \"Matrix D\"\n",
      "     [,1] [,2]\n",
      "[1,]    9    3\n",
      "[2,]    5    2\n",
      "[3,]    1    7\n"
     ]
    }
   ],
   "source": [
    "# Display matrices\n",
    "print(\"Matrix A\"); print(A)\n",
    "print(\"Matrix B\"); print(B)\n",
    "print(\"Matrix C\"); print(C)\n",
    "print(\"Matrix D\"); print(D)"
   ]
  },
  {
   "cell_type": "code",
   "execution_count": 3,
   "id": "55b7a4f3",
   "metadata": {
    "vscode": {
     "languageId": "r"
    }
   },
   "outputs": [
    {
     "name": "stdout",
     "output_type": "stream",
     "text": [
      "[1] \"Addition A + B\"\n",
      "     [,1] [,2]\n",
      "[1,]   10    8\n",
      "[2,]   10    9\n",
      "[1] \"Subtraction A - B\"\n",
      "     [,1] [,2]\n",
      "[1,]   -4   -4\n",
      "[2,]    8    1\n",
      "[1] \"Scalar Multiplication 3 * A\"\n",
      "     [,1] [,2]\n",
      "[1,]    9    6\n",
      "[2,]   27   15\n",
      "[1] \"C %*% D\"\n",
      "     [,1] [,2]\n",
      "[1,]   22   28\n",
      "[2,]   83   56\n",
      "[1] \"Diagonal of A\"\n",
      "[1] 3 5\n",
      "[1] \"Transpose of C\"\n",
      "     [,1] [,2]\n",
      "[1,]    1    6\n",
      "[2,]    2    5\n",
      "[3,]    3    4\n",
      "[1] \"Inverse of B\"\n",
      "            [,1]       [,2]\n",
      "[1,]  0.18181818 -0.2727273\n",
      "[2,] -0.04545455  0.3181818\n"
     ]
    }
   ],
   "source": [
    "# Matrix operations\n",
    "print(\"Addition A + B\"); print(A + B)\n",
    "print(\"Subtraction A - B\"); print(A - B)\n",
    "print(\"Scalar Multiplication 3 * A\"); print(3 * A)\n",
    "print(\"C %*% D\"); print(C %*% D)\n",
    "print(\"Diagonal of A\"); print(diag(A))\n",
    "print(\"Transpose of C\"); print(t(C))\n",
    "print(\"Inverse of B\"); print(solve(B))"
   ]
  },
  {
   "cell_type": "code",
   "execution_count": null,
   "id": "2644350b",
   "metadata": {
    "vscode": {
     "languageId": "r"
    }
   },
   "outputs": [],
   "source": []
  }
 ],
 "metadata": {
  "kernelspec": {
   "display_name": "R",
   "language": "R",
   "name": "ir"
  },
  "language_info": {
   "codemirror_mode": "r",
   "file_extension": ".r",
   "mimetype": "text/x-r-source",
   "name": "R",
   "pygments_lexer": "r",
   "version": "4.4.2"
  }
 },
 "nbformat": 4,
 "nbformat_minor": 5
}
