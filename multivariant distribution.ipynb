{
 "cells": [
  {
   "cell_type": "code",
   "execution_count": null,
   "id": "6bf81c0b-658d-4bfd-8555-ef9b094958ab",
   "metadata": {
    "vscode": {
     "languageId": "r"
    }
   },
   "outputs": [
    {
     "name": "stderr",
     "output_type": "stream",
     "text": [
      "Warning message:\n",
      "\"package 'mvtnorm' was built under R version 4.4.3\"\n",
      "Installing package into 'C:/Users/SIBIJ/AppData/Local/R/win-library/4.4'\n",
      "(as 'lib' is unspecified)\n",
      "\n"
     ]
    },
    {
     "name": "stdout",
     "output_type": "stream",
     "text": [
      "package 'rgl' successfully unpacked and MD5 sums checked\n",
      "\n",
      "The downloaded binary packages are in\n",
      "\tC:\\Users\\SIBIJ\\AppData\\Local\\Temp\\Rtmpw5S9Ul\\downloaded_packages\n"
     ]
    },
    {
     "name": "stderr",
     "output_type": "stream",
     "text": [
      "Warning message:\n",
      "\"package 'rgl' was built under R version 4.4.3\"\n"
     ]
    },
    {
     "name": "stdout",
     "output_type": "stream",
     "text": [
      "Mean Vector:  165.9 63.8 \n",
      "Covariance Matrix:  80.98889 58.64444 58.64444 80.17778"
     ]
    },
    {
     "name": "stderr",
     "output_type": "stream",
     "text": [
      "Warning message in cbind(hv, wv):\n",
      "\"number of rows of result is not a multiple of vector length (arg 1)\"\n"
     ]
    },
    {
     "ename": "",
     "evalue": "",
     "output_type": "error",
     "traceback": [
      "\u001b[1;31mThe Kernel crashed while executing code in the current cell or a previous cell. \n",
      "\u001b[1;31mPlease review the code in the cell(s) to identify a possible cause of the failure. \n",
      "\u001b[1;31mClick <a href='https://aka.ms/vscodeJupyterKernelCrash'>here</a> for more info. \n",
      "\u001b[1;31mView Jupyter <a href='command:jupyter.viewOutput'>log</a> for further details."
     ]
    }
   ],
   "source": [
    "#install.packages(\"mvtnorm\")\n",
    "library(mvtnorm)\n",
    "install.packages(\"rgl\")\n",
    "library(rgl)\n",
    "\n"
   ]
  },
  {
   "cell_type": "code",
   "execution_count": null,
   "id": "0d8bdaf3",
   "metadata": {
    "vscode": {
     "languageId": "r"
    }
   },
   "outputs": [],
   "source": [
    "mvtrain <- function(hwdata)\n",
    "{\n",
    "  hv=vector(mode=\"numeric\",length=0)\n",
    "  wv=vector(mode=\"numeric\",length=0)\n",
    "  pv=vector(mode=\"numeric\",length=0)\n",
    "  \n",
    "  hmin=min(hwdata[,1])-15\n",
    "  hmax=max(hwdata[,1])+15\n",
    "  wmin=min(hwdata[,2])-15\n",
    "  wmax=max(hwdata[,2])+15\n",
    "  m=colMeans(hwdata)\n",
    "  cv=cov(hwdata)\n",
    "  cat(\"Mean Vector: \",m,\"\\n\")\n",
    "  cat(\"Covariance Matrix: \",cv)\n",
    "  hv=rep(hmin:hmax,each=length(hmin:hmax))\n",
    "  wv=rep(wmin:wmax,times=length(hmin:hmax))\n",
    "  grid_points=cbind(hv,wv)\n",
    "  pv=dmvnorm(grid_points,m,cv)\n",
    "  plot3d(x=hv,y=wv,z=pv,xlab=\"height\",ylab=\"weight\",main=\"Multivariate normal Distribution\",col=\"blue\")\n",
    "  return(list(mv=m,cv=cv))\n",
    "}"
   ]
  },
  {
   "cell_type": "code",
   "execution_count": null,
   "id": "cb4f67bb",
   "metadata": {
    "vscode": {
     "languageId": "r"
    }
   },
   "outputs": [],
   "source": [
    "mvtest <- function(mvdata,hwdata)\n",
    "{\n",
    "  mv=mvdata$mv\n",
    "  cv=mvdata$cv\n",
    "  pt=dmvnorm(hwdata,mv,cv)\n",
    "  if(pt>=0.00005)\n",
    "    cat(\"the given height and weight of the person is adult\")\n",
    "  else\n",
    "    cat(\"the give height and weight of the person is not adult\")\n",
    "}"
   ]
  },
  {
   "cell_type": "code",
   "execution_count": null,
   "id": "3a0f1afc",
   "metadata": {
    "vscode": {
     "languageId": "r"
    }
   },
   "outputs": [],
   "source": [
    "\n",
    "hwdata <- cbind(\n",
    "  c(165, 170, 160, 154, 175, 155, 167, 177, 158, 178),  # Heights\n",
    "  c(78, 71, 60, 53, 72, 51, 64, 65, 55, 69)             # Weights\n",
    ")"
   ]
  },
  {
   "cell_type": "code",
   "execution_count": null,
   "id": "a0c56f8e",
   "metadata": {
    "vscode": {
     "languageId": "r"
    }
   },
   "outputs": [],
   "source": [
    "mvdata = mvtrain(hwdata)"
   ]
  },
  {
   "cell_type": "code",
   "execution_count": null,
   "id": "f4b6bc21",
   "metadata": {
    "vscode": {
     "languageId": "r"
    }
   },
   "outputs": [],
   "source": [
    "ht= as.numeric(readline(prompt ='Enter the Height of person ='))\n",
    "wt= as.numeric(readline(prompt ='Enter the Weight of person ='))\n",
    "hwdata = c(ht,wt) \n",
    "mvtest(mvdata,hwdata)"
   ]
  }
 ],
 "metadata": {
  "kernelspec": {
   "display_name": "R",
   "language": "R",
   "name": "ir"
  },
  "language_info": {
   "codemirror_mode": "r",
   "file_extension": ".r",
   "mimetype": "text/x-r-source",
   "name": "R",
   "pygments_lexer": "r",
   "version": "4.4.2"
  }
 },
 "nbformat": 4,
 "nbformat_minor": 5
}
