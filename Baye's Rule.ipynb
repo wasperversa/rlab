{
 "cells": [
  {
   "cell_type": "code",
   "execution_count": 1,
   "id": "490d7d40-3a03-41df-a95d-43c7e9c6010d",
   "metadata": {
    "vscode": {
     "languageId": "r"
    }
   },
   "outputs": [],
   "source": [
    "# Function to train the model based on height distributions of males and females\n",
    "uvtrain <- function(hm, hf) {\n",
    "  hmin_m <- min(hm) - 15\n",
    "  hmax_m <- max(hm) + 15\n",
    "  hmin_f <- min(hf) - 15\n",
    "  hmax_f <- max(hf) + 15\n",
    "\n",
    "  mm <- mean(hm)  # Mean of male heights\n",
    "  vm <- var(hm)   # Variance of male heights\n",
    "  cat(\"Mean of Male Height:\", mm, \"\\n\")\n",
    "  cat(\"Variance of Male Height:\", vm, \"\\n\")\n",
    "\n",
    "  mf <- mean(hf)  # Mean of female heights\n",
    "  vf <- var(hf)   # Variance of female heights\n",
    "  cat(\"Mean of Female Height:\", mf, \"\\n\")\n",
    "  cat(\"Variance of Female Height:\", vf, \"\\n\")\n",
    "\n",
    "  # Generate height ranges\n",
    "  hmm <- hmin_m:hmax_m\n",
    "  hff <- hmin_f:hmax_f\n",
    "\n",
    "  # Use dnorm() to compute probabilities\n",
    "  pmh <- dnorm(hmm, mean = mm, sd = sqrt(vm))\n",
    "  pfh <- dnorm(hff, mean = mf, sd = sqrt(vf))\n",
    "\n",
    "  # Plot the normal densities\n",
    "  plot(hmm, pmh, type = \"l\", col = \"red\", lwd = 2, \n",
    "       xlim = c(min(hff), max(hmm)), \n",
    "       xlab = \"Height of Person (Male and Female)\", \n",
    "       ylab = \"P(male | height) and P(female | height)\", \n",
    "       main = \"Normal Density Distribution\")\n",
    "  lines(hff, pfh, col = \"blue\", lwd = 2)\n",
    "  legend(\"topright\", legend = c(\"Male\", \"Female\"), col = c(\"red\", \"blue\"), lty = 1, lwd = 2)\n",
    "  \n",
    "return(c(mm,vm,mf,vf)) \n",
    "}"
   ]
  },
  {
   "cell_type": "code",
   "execution_count": 2,
   "id": "f46b4389",
   "metadata": {
    "vscode": {
     "languageId": "r"
    }
   },
   "outputs": [],
   "source": [
    "# Bayes Rule Testing Function Using Normal Density\n",
    "uvtest <- function(mm, vm, mf, vf, ht) {\n",
    "  # Probability of Male given Height using dnorm()\n",
    "  pm <- dnorm(ht, mean = mm, sd = sqrt(vm))\n",
    "  \n",
    "  # Probability of Female given Height using dnorm()\n",
    "  pf <- dnorm(ht, mean = mf, sd = sqrt(vf))\n",
    "  \n",
    "  if (pm > pf) {\n",
    "    print(\"The given Height of the Person is Male\")\n",
    "  } else {\n",
    "    print(\"The given Height of the Person is Female\")\n",
    "  }\n",
    "}"
   ]
  },
  {
   "cell_type": "code",
   "execution_count": 3,
   "id": "d5f3bc18",
   "metadata": {
    "vscode": {
     "languageId": "r"
    }
   },
   "outputs": [
    {
     "name": "stdout",
     "output_type": "stream",
     "text": [
      "Mean of Male Height: 165.9 \n",
      "Variance of Male Height: 80.98889 \n",
      "Mean of Female Height: 149.5 \n",
      "Variance of Female Height: 90.72222 \n"
     ]
    },
    {
     "data": {
      "image/png": "[encoded data removed]",
      "text/plain": [
       "Plot with title \"Normal Density Distribution\""
      ]
     },
     "metadata": {
      "image/png": {
       "height": 420,
       "width": 420
      }
     },
     "output_type": "display_data"
    }
   ],
   "source": [
    "# Train Function Call\n",
    "hm <- c(165, 170, 160, 154, 175, 155, 167, 177, 158, 178)\n",
    "hf <- c(140, 145, 149, 152, 157, 135, 139, 160, 155, 163)\n",
    "mv <- uvtrain(hm, hf)"
   ]
  },
  {
   "cell_type": "code",
   "execution_count": 4,
   "id": "67c7c11c",
   "metadata": {
    "vscode": {
     "languageId": "r"
    }
   },
   "outputs": [
    {
     "name": "stdout",
     "output_type": "stream",
     "text": [
      "[1] \"The given Height of the Person is Male\"\n"
     ]
    }
   ],
   "source": [
    "# Testing Function Call\n",
    "ht <- as.numeric(readline(prompt = 'Enter the height of the person for prediction: '))\n",
    "mm <- mv[1]\n",
    "vm <- mv[2]\n",
    "mf <- mv[3]\n",
    "vf <- mv[4]\n",
    "uvtest(mm, vm, mf, vf, ht)"
   ]
  },
  {
   "cell_type": "code",
   "execution_count": null,
   "id": "6eccd3a8",
   "metadata": {
    "vscode": {
     "languageId": "r"
    }
   },
   "outputs": [],
   "source": []
  }
 ],
 "metadata": {
  "kernelspec": {
   "display_name": "R",
   "language": "R",
   "name": "ir"
  },
  "language_info": {
   "codemirror_mode": "r",
   "file_extension": ".r",
   "mimetype": "text/x-r-source",
   "name": "R",
   "pygments_lexer": "r",
   "version": "4.4.2"
  },
  "toc": {
   "base_numbering": 5
  }
 },
 "nbformat": 4,
 "nbformat_minor": 5
}
