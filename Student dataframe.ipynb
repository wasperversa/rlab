{
 "cells": [
  {
   "cell_type": "code",
   "execution_count": 3,
   "id": "f9b0fec5",
   "metadata": {
    "vscode": {
     "languageId": "r"
    }
   },
   "outputs": [],
   "source": [
    "sdata <- data.frame(\n",
    "  sname = c(\"Raja\", \"somu\", \"Roja\"),\n",
    "  srollno = c(101, 103, 102),\n",
    "  sage = c(19, 20, 18),\n",
    "  ssex = c(\"male\", \"male\", \"female\"),\n",
    "  sbranch = c(\"CSE\", \"MECH\", \"EEE\"),\n",
    "  m1 = c(90, 79, 88), m2 = c(95, 85, 90),\n",
    "  m3 = c(85, 25, 85), m4 = c(70, 40, 60),\n",
    "  m5 = c(67, 67, 89)\n",
    ")\n"
   ]
  },
  {
   "cell_type": "code",
   "execution_count": 4,
   "id": "f5846cb2",
   "metadata": {
    "vscode": {
     "languageId": "r"
    }
   },
   "outputs": [
    {
     "data": {
      "text/html": [
       "<table class=\"dataframe\">\n",
       "<caption>A data.frame: 3 × 10</caption>\n",
       "<thead>\n",
       "\t<tr><th></th><th scope=col>sname</th><th scope=col>srollno</th><th scope=col>sage</th><th scope=col>ssex</th><th scope=col>sbranch</th><th scope=col>m1</th><th scope=col>m2</th><th scope=col>m3</th><th scope=col>m4</th><th scope=col>m5</th></tr>\n",
       "\t<tr><th></th><th scope=col>&lt;chr&gt;</th><th scope=col>&lt;dbl&gt;</th><th scope=col>&lt;dbl&gt;</th><th scope=col>&lt;chr&gt;</th><th scope=col>&lt;chr&gt;</th><th scope=col>&lt;dbl&gt;</th><th scope=col>&lt;dbl&gt;</th><th scope=col>&lt;dbl&gt;</th><th scope=col>&lt;dbl&gt;</th><th scope=col>&lt;dbl&gt;</th></tr>\n",
       "</thead>\n",
       "<tbody>\n",
       "\t<tr><th scope=row>1</th><td>Raja</td><td>101</td><td>19</td><td>male  </td><td>CSE </td><td>90</td><td>95</td><td>85</td><td>70</td><td>67</td></tr>\n",
       "\t<tr><th scope=row>2</th><td>somu</td><td>103</td><td>20</td><td>male  </td><td>MECH</td><td>79</td><td>85</td><td>25</td><td>40</td><td>67</td></tr>\n",
       "\t<tr><th scope=row>3</th><td>Roja</td><td>102</td><td>18</td><td>female</td><td>EEE </td><td>88</td><td>90</td><td>85</td><td>60</td><td>89</td></tr>\n",
       "</tbody>\n",
       "</table>\n"
      ],
      "text/latex": [
       "A data.frame: 3 × 10\n",
       "\\begin{tabular}{r|llllllllll}\n",
       "  & sname & srollno & sage & ssex & sbranch & m1 & m2 & m3 & m4 & m5\\\\\n",
       "  & <chr> & <dbl> & <dbl> & <chr> & <chr> & <dbl> & <dbl> & <dbl> & <dbl> & <dbl>\\\\\n",
       "\\hline\n",
       "\t1 & Raja & 101 & 19 & male   & CSE  & 90 & 95 & 85 & 70 & 67\\\\\n",
       "\t2 & somu & 103 & 20 & male   & MECH & 79 & 85 & 25 & 40 & 67\\\\\n",
       "\t3 & Roja & 102 & 18 & female & EEE  & 88 & 90 & 85 & 60 & 89\\\\\n",
       "\\end{tabular}\n"
      ],
      "text/markdown": [
       "\n",
       "A data.frame: 3 × 10\n",
       "\n",
       "| <!--/--> | sname &lt;chr&gt; | srollno &lt;dbl&gt; | sage &lt;dbl&gt; | ssex &lt;chr&gt; | sbranch &lt;chr&gt; | m1 &lt;dbl&gt; | m2 &lt;dbl&gt; | m3 &lt;dbl&gt; | m4 &lt;dbl&gt; | m5 &lt;dbl&gt; |\n",
       "|---|---|---|---|---|---|---|---|---|---|---|\n",
       "| 1 | Raja | 101 | 19 | male   | CSE  | 90 | 95 | 85 | 70 | 67 |\n",
       "| 2 | somu | 103 | 20 | male   | MECH | 79 | 85 | 25 | 40 | 67 |\n",
       "| 3 | Roja | 102 | 18 | female | EEE  | 88 | 90 | 85 | 60 | 89 |\n",
       "\n"
      ],
      "text/plain": [
       "  sname srollno sage ssex   sbranch m1 m2 m3 m4 m5\n",
       "1 Raja  101     19   male   CSE     90 95 85 70 67\n",
       "2 somu  103     20   male   MECH    79 85 25 40 67\n",
       "3 Roja  102     18   female EEE     88 90 85 60 89"
      ]
     },
     "metadata": {},
     "output_type": "display_data"
    },
    {
     "data": {
      "text/html": [
       "3"
      ],
      "text/latex": [
       "3"
      ],
      "text/markdown": [
       "3"
      ],
      "text/plain": [
       "[1] 3"
      ]
     },
     "metadata": {},
     "output_type": "display_data"
    },
    {
     "data": {
      "text/html": [
       "10"
      ],
      "text/latex": [
       "10"
      ],
      "text/markdown": [
       "10"
      ],
      "text/plain": [
       "[1] 10"
      ]
     },
     "metadata": {},
     "output_type": "display_data"
    }
   ],
   "source": [
    "# View structure\n",
    "head(sdata); nrow(sdata); ncol(sdata)"
   ]
  },
  {
   "cell_type": "code",
   "execution_count": 5,
   "id": "5ab92240",
   "metadata": {
    "vscode": {
     "languageId": "r"
    }
   },
   "outputs": [],
   "source": [
    "\n",
    "# Compute Total and Percentage\n",
    "marks <- sdata[, paste0(\"m\", 1:5)]\n",
    "Total <- rowSums(marks)\n",
    "ptge <- Total / 5"
   ]
  },
  {
   "cell_type": "code",
   "execution_count": 6,
   "id": "91f5f550",
   "metadata": {
    "vscode": {
     "languageId": "r"
    }
   },
   "outputs": [],
   "source": [
    "# Determine Pass/Fail\n",
    "result <- ifelse(apply(marks > 50, 1, all), \"Pass\", \"Fail\")"
   ]
  },
  {
   "cell_type": "code",
   "execution_count": 7,
   "id": "1d40dcaf",
   "metadata": {
    "vscode": {
     "languageId": "r"
    }
   },
   "outputs": [
    {
     "data": {
      "text/html": [
       "<table class=\"dataframe\">\n",
       "<caption>A data.frame: 3 × 13</caption>\n",
       "<thead>\n",
       "\t<tr><th></th><th scope=col>sname</th><th scope=col>srollno</th><th scope=col>sage</th><th scope=col>ssex</th><th scope=col>sbranch</th><th scope=col>m1</th><th scope=col>m2</th><th scope=col>m3</th><th scope=col>m4</th><th scope=col>m5</th><th scope=col>Total</th><th scope=col>ptge</th><th scope=col>result</th></tr>\n",
       "\t<tr><th></th><th scope=col>&lt;chr&gt;</th><th scope=col>&lt;dbl&gt;</th><th scope=col>&lt;dbl&gt;</th><th scope=col>&lt;chr&gt;</th><th scope=col>&lt;chr&gt;</th><th scope=col>&lt;dbl&gt;</th><th scope=col>&lt;dbl&gt;</th><th scope=col>&lt;dbl&gt;</th><th scope=col>&lt;dbl&gt;</th><th scope=col>&lt;dbl&gt;</th><th scope=col>&lt;dbl&gt;</th><th scope=col>&lt;dbl&gt;</th><th scope=col>&lt;chr&gt;</th></tr>\n",
       "</thead>\n",
       "<tbody>\n",
       "\t<tr><th scope=row>1</th><td>Raja</td><td>101</td><td>19</td><td>male  </td><td>CSE </td><td>90</td><td>95</td><td>85</td><td>70</td><td>67</td><td>407</td><td>81.4</td><td>Pass</td></tr>\n",
       "\t<tr><th scope=row>2</th><td>somu</td><td>103</td><td>20</td><td>male  </td><td>MECH</td><td>79</td><td>85</td><td>25</td><td>40</td><td>67</td><td>296</td><td>59.2</td><td>Fail</td></tr>\n",
       "\t<tr><th scope=row>3</th><td>Roja</td><td>102</td><td>18</td><td>female</td><td>EEE </td><td>88</td><td>90</td><td>85</td><td>60</td><td>89</td><td>412</td><td>82.4</td><td>Pass</td></tr>\n",
       "</tbody>\n",
       "</table>\n"
      ],
      "text/latex": [
       "A data.frame: 3 × 13\n",
       "\\begin{tabular}{r|lllllllllllll}\n",
       "  & sname & srollno & sage & ssex & sbranch & m1 & m2 & m3 & m4 & m5 & Total & ptge & result\\\\\n",
       "  & <chr> & <dbl> & <dbl> & <chr> & <chr> & <dbl> & <dbl> & <dbl> & <dbl> & <dbl> & <dbl> & <dbl> & <chr>\\\\\n",
       "\\hline\n",
       "\t1 & Raja & 101 & 19 & male   & CSE  & 90 & 95 & 85 & 70 & 67 & 407 & 81.4 & Pass\\\\\n",
       "\t2 & somu & 103 & 20 & male   & MECH & 79 & 85 & 25 & 40 & 67 & 296 & 59.2 & Fail\\\\\n",
       "\t3 & Roja & 102 & 18 & female & EEE  & 88 & 90 & 85 & 60 & 89 & 412 & 82.4 & Pass\\\\\n",
       "\\end{tabular}\n"
      ],
      "text/markdown": [
       "\n",
       "A data.frame: 3 × 13\n",
       "\n",
       "| <!--/--> | sname &lt;chr&gt; | srollno &lt;dbl&gt; | sage &lt;dbl&gt; | ssex &lt;chr&gt; | sbranch &lt;chr&gt; | m1 &lt;dbl&gt; | m2 &lt;dbl&gt; | m3 &lt;dbl&gt; | m4 &lt;dbl&gt; | m5 &lt;dbl&gt; | Total &lt;dbl&gt; | ptge &lt;dbl&gt; | result &lt;chr&gt; |\n",
       "|---|---|---|---|---|---|---|---|---|---|---|---|---|---|\n",
       "| 1 | Raja | 101 | 19 | male   | CSE  | 90 | 95 | 85 | 70 | 67 | 407 | 81.4 | Pass |\n",
       "| 2 | somu | 103 | 20 | male   | MECH | 79 | 85 | 25 | 40 | 67 | 296 | 59.2 | Fail |\n",
       "| 3 | Roja | 102 | 18 | female | EEE  | 88 | 90 | 85 | 60 | 89 | 412 | 82.4 | Pass |\n",
       "\n"
      ],
      "text/plain": [
       "  sname srollno sage ssex   sbranch m1 m2 m3 m4 m5 Total ptge result\n",
       "1 Raja  101     19   male   CSE     90 95 85 70 67 407   81.4 Pass  \n",
       "2 somu  103     20   male   MECH    79 85 25 40 67 296   59.2 Fail  \n",
       "3 Roja  102     18   female EEE     88 90 85 60 89 412   82.4 Pass  "
      ]
     },
     "metadata": {},
     "output_type": "display_data"
    }
   ],
   "source": [
    "\n",
    "# Combine all into final data\n",
    "tdata <- cbind(sdata, Total, ptge, result)\n",
    "head(tdata)"
   ]
  },
  {
   "cell_type": "code",
   "execution_count": null,
   "id": "d326b825",
   "metadata": {
    "vscode": {
     "languageId": "r"
    }
   },
   "outputs": [],
   "source": []
  }
 ],
 "metadata": {
  "kernelspec": {
   "display_name": "R",
   "language": "R",
   "name": "ir"
  },
  "language_info": {
   "codemirror_mode": "r",
   "file_extension": ".r",
   "mimetype": "text/x-r-source",
   "name": "R",
   "pygments_lexer": "r",
   "version": "4.4.2"
  }
 },
 "nbformat": 4,
 "nbformat_minor": 5
}
