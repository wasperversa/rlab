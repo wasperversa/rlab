{
 "cells": [
  {
   "cell_type": "code",
   "execution_count": 1,
   "id": "43cc1da4",
   "metadata": {
    "vscode": {
     "languageId": "r"
    }
   },
   "outputs": [
    {
     "name": "stderr",
     "output_type": "stream",
     "text": [
      "Installing package into 'C:/Users/SIBIJ/AppData/Local/R/win-library/4.4'\n",
      "(as 'lib' is unspecified)\n",
      "\n"
     ]
    },
    {
     "name": "stdout",
     "output_type": "stream",
     "text": [
      "package 'heplots' successfully unpacked and MD5 sums checked\n",
      "\n",
      "The downloaded binary packages are in\n",
      "\tC:\\Users\\SIBIJ\\AppData\\Local\\Temp\\Rtmp6LUSbZ\\downloaded_packages\n"
     ]
    }
   ],
   "source": [
    "install.packages(\"heplots\")"
   ]
  },
  {
   "cell_type": "code",
   "execution_count": 2,
   "id": "347228e1",
   "metadata": {
    "vscode": {
     "languageId": "r"
    }
   },
   "outputs": [
    {
     "name": "stderr",
     "output_type": "stream",
     "text": [
      "Warning message:\n",
      "\"package 'heplots' was built under R version 4.4.3\"\n",
      "Loading required package: broom\n",
      "\n",
      "Warning message:\n",
      "\"package 'broom' was built under R version 4.4.3\"\n",
      "Warning message:\n",
      "\"package 'ggplot2' was built under R version 4.4.3\"\n"
     ]
    }
   ],
   "source": [
    "# Load necessary libraries\n",
    "library(heplots)\n",
    "library(ggplot2)"
   ]
  },
  {
   "cell_type": "code",
   "execution_count": 3,
   "id": "2d743956",
   "metadata": {
    "vscode": {
     "languageId": "r"
    }
   },
   "outputs": [
    {
     "data": {
      "text/html": [
       "<table class=\"dataframe\">\n",
       "<caption>A data.frame: 6 × 7</caption>\n",
       "<thead>\n",
       "\t<tr><th></th><th scope=col>group</th><th scope=col>wl1</th><th scope=col>wl2</th><th scope=col>wl3</th><th scope=col>se1</th><th scope=col>se2</th><th scope=col>se3</th></tr>\n",
       "\t<tr><th></th><th scope=col>&lt;fct&gt;</th><th scope=col>&lt;int&gt;</th><th scope=col>&lt;int&gt;</th><th scope=col>&lt;int&gt;</th><th scope=col>&lt;int&gt;</th><th scope=col>&lt;int&gt;</th><th scope=col>&lt;int&gt;</th></tr>\n",
       "</thead>\n",
       "<tbody>\n",
       "\t<tr><th scope=row>1</th><td>Control</td><td>4</td><td>3</td><td>3</td><td>14</td><td>13</td><td>15</td></tr>\n",
       "\t<tr><th scope=row>2</th><td>Control</td><td>4</td><td>4</td><td>3</td><td>13</td><td>14</td><td>17</td></tr>\n",
       "\t<tr><th scope=row>3</th><td>Control</td><td>4</td><td>3</td><td>1</td><td>17</td><td>12</td><td>16</td></tr>\n",
       "\t<tr><th scope=row>4</th><td>Control</td><td>3</td><td>2</td><td>1</td><td>11</td><td>11</td><td>12</td></tr>\n",
       "\t<tr><th scope=row>5</th><td>Control</td><td>5</td><td>3</td><td>2</td><td>16</td><td>15</td><td>14</td></tr>\n",
       "\t<tr><th scope=row>6</th><td>Control</td><td>6</td><td>5</td><td>4</td><td>17</td><td>18</td><td>18</td></tr>\n",
       "</tbody>\n",
       "</table>\n"
      ],
      "text/latex": [
       "A data.frame: 6 × 7\n",
       "\\begin{tabular}{r|lllllll}\n",
       "  & group & wl1 & wl2 & wl3 & se1 & se2 & se3\\\\\n",
       "  & <fct> & <int> & <int> & <int> & <int> & <int> & <int>\\\\\n",
       "\\hline\n",
       "\t1 & Control & 4 & 3 & 3 & 14 & 13 & 15\\\\\n",
       "\t2 & Control & 4 & 4 & 3 & 13 & 14 & 17\\\\\n",
       "\t3 & Control & 4 & 3 & 1 & 17 & 12 & 16\\\\\n",
       "\t4 & Control & 3 & 2 & 1 & 11 & 11 & 12\\\\\n",
       "\t5 & Control & 5 & 3 & 2 & 16 & 15 & 14\\\\\n",
       "\t6 & Control & 6 & 5 & 4 & 17 & 18 & 18\\\\\n",
       "\\end{tabular}\n"
      ],
      "text/markdown": [
       "\n",
       "A data.frame: 6 × 7\n",
       "\n",
       "| <!--/--> | group &lt;fct&gt; | wl1 &lt;int&gt; | wl2 &lt;int&gt; | wl3 &lt;int&gt; | se1 &lt;int&gt; | se2 &lt;int&gt; | se3 &lt;int&gt; |\n",
       "|---|---|---|---|---|---|---|---|\n",
       "| 1 | Control | 4 | 3 | 3 | 14 | 13 | 15 |\n",
       "| 2 | Control | 4 | 4 | 3 | 13 | 14 | 17 |\n",
       "| 3 | Control | 4 | 3 | 1 | 17 | 12 | 16 |\n",
       "| 4 | Control | 3 | 2 | 1 | 11 | 11 | 12 |\n",
       "| 5 | Control | 5 | 3 | 2 | 16 | 15 | 14 |\n",
       "| 6 | Control | 6 | 5 | 4 | 17 | 18 | 18 |\n",
       "\n"
      ],
      "text/plain": [
       "  group   wl1 wl2 wl3 se1 se2 se3\n",
       "1 Control 4   3   3   14  13  15 \n",
       "2 Control 4   4   3   13  14  17 \n",
       "3 Control 4   3   1   17  12  16 \n",
       "4 Control 3   2   1   11  11  12 \n",
       "5 Control 5   3   2   16  15  14 \n",
       "6 Control 6   5   4   17  18  18 "
      ]
     },
     "metadata": {},
     "output_type": "display_data"
    },
    {
     "data": {
      "text/plain": [
       "\n",
       "Control    Diet  DietEx \n",
       "     12      12      10 "
      ]
     },
     "metadata": {},
     "output_type": "display_data"
    }
   ],
   "source": [
    "# Display first few rows\n",
    "head(WeightLoss)\n",
    "\n",
    "# Count the number of observations in each group\n",
    "table(WeightLoss$group)"
   ]
  },
  {
   "cell_type": "code",
   "execution_count": 4,
   "id": "36b86b03",
   "metadata": {
    "vscode": {
     "languageId": "r"
    }
   },
   "outputs": [
    {
     "name": "stderr",
     "output_type": "stream",
     "text": [
      "Warning message:\n",
      "\"\u001b[1m\u001b[22m`qplot()` was deprecated in ggplot2 3.4.0.\"\n"
     ]
    },
    {
     "data": {
      "image/png": "[encoded data removed]",
      "text/plain": [
       "plot without title"
      ]
     },
     "metadata": {
      "image/png": {
       "height": 420,
       "width": 420
      }
     },
     "output_type": "display_data"
    }
   ],
   "source": [
    "qplot(group, wl2, data=WeightLoss, geom=\"boxplot\", fill=group)"
   ]
  },
  {
   "cell_type": "code",
   "execution_count": 5,
   "id": "f9db7dde",
   "metadata": {
    "vscode": {
     "languageId": "r"
    }
   },
   "outputs": [],
   "source": [
    "the.anova <- aov(wl2 ~ group, data=WeightLoss)"
   ]
  },
  {
   "cell_type": "code",
   "execution_count": 6,
   "id": "95bb988b",
   "metadata": {
    "vscode": {
     "languageId": "r"
    }
   },
   "outputs": [
    {
     "data": {
      "text/plain": [
       "            Df Sum Sq Mean Sq F value   Pr(>F)    \n",
       "group        2  45.28  22.641   13.37 6.49e-05 ***\n",
       "Residuals   31  52.48   1.693                     \n",
       "---\n",
       "Signif. codes:  0 '***' 0.001 '**' 0.01 '*' 0.05 '.' 0.1 ' ' 1"
      ]
     },
     "metadata": {},
     "output_type": "display_data"
    }
   ],
   "source": [
    "summary(the.anova)"
   ]
  },
  {
   "cell_type": "code",
   "execution_count": 7,
   "id": "6a6813ec",
   "metadata": {
    "vscode": {
     "languageId": "r"
    }
   },
   "outputs": [
    {
     "data": {
      "text/plain": [
       "\n",
       "\tPairwise comparisons using t tests with pooled SD \n",
       "\n",
       "data:  WeightLoss$wl2 and WeightLoss$group \n",
       "\n",
       "       Control Diet  \n",
       "Diet   0.8418  -     \n",
       "DietEx 7.1e-05 0.0014\n",
       "\n",
       "P value adjustment method: bonferroni "
      ]
     },
     "metadata": {},
     "output_type": "display_data"
    }
   ],
   "source": [
    "pairwise.t.test(WeightLoss$wl2, WeightLoss$group, p.adjust.method = \"bonferroni\")"
   ]
  },
  {
   "cell_type": "code",
   "execution_count": 8,
   "id": "e502f1a4",
   "metadata": {
    "vscode": {
     "languageId": "r"
    }
   },
   "outputs": [
    {
     "data": {
      "text/html": [
       "17.1473684210526"
      ],
      "text/latex": [
       "17.1473684210526"
      ],
      "text/markdown": [
       "17.1473684210526"
      ],
      "text/plain": [
       "[1] 17.14737"
      ]
     },
     "metadata": {},
     "output_type": "display_data"
    },
    {
     "data": {
      "text/html": [
       "24.3923076923077"
      ],
      "text/latex": [
       "24.3923076923077"
      ],
      "text/markdown": [
       "24.3923076923077"
      ],
      "text/plain": [
       "[1] 24.39231"
      ]
     },
     "metadata": {},
     "output_type": "display_data"
    }
   ],
   "source": [
    "# Analyzing the mtcars dataset\n",
    "# Compute mean mpg for automatic and manual transmissions\n",
    "mean(mtcars$mpg[mtcars$am == 0])  # Automatic\n",
    "mean(mtcars$mpg[mtcars$am == 1])  # Manual"
   ]
  },
  {
   "cell_type": "code",
   "execution_count": 9,
   "id": "bb399363",
   "metadata": {
    "vscode": {
     "languageId": "r"
    }
   },
   "outputs": [],
   "source": [
    "# Create a copy of mtcars and add a factor variable for transmission\n",
    "mtcars.copy <- mtcars\n",
    "mtcars.copy$transmission <- factor(ifelse(mtcars$am == 0, \"Automatic\", \"Manual\"))"
   ]
  },
  {
   "cell_type": "code",
   "execution_count": 11,
   "id": "a592db3e",
   "metadata": {
    "vscode": {
     "languageId": "r"
    }
   },
   "outputs": [
    {
     "data": {
      "image/png": "[encoded data removed]",
      "text/plain": [
       "plot without title"
      ]
     },
     "metadata": {
      "image/png": {
       "height": 420,
       "width": 420
      }
     },
     "output_type": "display_data"
    }
   ],
   "source": [
    "qplot(transmission, mpg, data=mtcars.copy,geom=\"boxplot\", fill=transmission)"
   ]
  },
  {
   "cell_type": "code",
   "execution_count": 10,
   "id": "9fa66f30",
   "metadata": {
    "vscode": {
     "languageId": "r"
    }
   },
   "outputs": [
    {
     "data": {
      "text/plain": [
       "\n",
       "\tWelch Two Sample t-test\n",
       "\n",
       "data:  mpg by am\n",
       "t = -3.7671, df = 18.332, p-value = 0.0006868\n",
       "alternative hypothesis: true difference in means between group 0 and group 1 is less than 0\n",
       "95 percent confidence interval:\n",
       "      -Inf -3.913256\n",
       "sample estimates:\n",
       "mean in group 0 mean in group 1 \n",
       "       17.14737        24.39231 \n"
      ]
     },
     "metadata": {},
     "output_type": "display_data"
    }
   ],
   "source": [
    "# Alternative way to perform t-test directly on the dataset\n",
    "t.test(mpg ~ am, data = mtcars, alternative = \"less\")"
   ]
  },
  {
   "cell_type": "code",
   "execution_count": null,
   "id": "3e0e39b8",
   "metadata": {
    "vscode": {
     "languageId": "r"
    }
   },
   "outputs": [],
   "source": []
  }
 ],
 "metadata": {
  "kernelspec": {
   "display_name": "R",
   "language": "R",
   "name": "ir"
  },
  "language_info": {
   "codemirror_mode": "r",
   "file_extension": ".r",
   "mimetype": "text/x-r-source",
   "name": "R",
   "pygments_lexer": "r",
   "version": "4.4.2"
  }
 },
 "nbformat": 4,
 "nbformat_minor": 5
}
