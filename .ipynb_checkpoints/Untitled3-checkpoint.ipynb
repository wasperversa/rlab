{
 "cells": [
  {
   "cell_type": "code",
   "execution_count": 2,
   "id": "f1d9f75c-2a62-4814-aa08-a1f3ef462473",
   "metadata": {},
   "outputs": [],
   "source": [
    "hi=5"
   ]
  },
  {
   "cell_type": "code",
   "execution_count": 3,
   "id": "5a8d7441-6a7b-4e68-9a3d-9e23affc66a0",
   "metadata": {},
   "outputs": [
    {
     "data": {
      "text/html": [
       "5"
      ],
      "text/latex": [
       "5"
      ],
      "text/markdown": [
       "5"
      ],
      "text/plain": [
       "[1] 5"
      ]
     },
     "metadata": {},
     "output_type": "display_data"
    }
   ],
   "source": [
    "hi"
   ]
  },
  {
   "cell_type": "code",
   "execution_count": 1,
   "id": "9ac991b3-73e7-4a6b-828f-918ea3d051a5",
   "metadata": {},
   "outputs": [],
   "source": [
    "a<-matrix(data = c(3,2,9,5),nrow = 2,ncol = 2,byrow = TRUE)"
   ]
  },
  {
   "cell_type": "code",
   "execution_count": 2,
   "id": "8471605e-ff20-4575-a452-32daa99ea980",
   "metadata": {},
   "outputs": [
    {
     "data": {
      "text/html": [
       "<table class=\"dataframe\">\n",
       "<caption>A matrix: 2 × 2 of type dbl</caption>\n",
       "<tbody>\n",
       "\t<tr><td>3</td><td>2</td></tr>\n",
       "\t<tr><td>9</td><td>5</td></tr>\n",
       "</tbody>\n",
       "</table>\n"
      ],
      "text/latex": [
       "A matrix: 2 × 2 of type dbl\n",
       "\\begin{tabular}{ll}\n",
       "\t 3 & 2\\\\\n",
       "\t 9 & 5\\\\\n",
       "\\end{tabular}\n"
      ],
      "text/markdown": [
       "\n",
       "A matrix: 2 × 2 of type dbl\n",
       "\n",
       "| 3 | 2 |\n",
       "| 9 | 5 |\n",
       "\n"
      ],
      "text/plain": [
       "     [,1] [,2]\n",
       "[1,] 3    2   \n",
       "[2,] 9    5   "
      ]
     },
     "metadata": {},
     "output_type": "display_data"
    }
   ],
   "source": [
    "a"
   ]
  },
  {
   "cell_type": "code",
   "execution_count": 6,
   "id": "cec16fa2-0c77-488c-9786-53020841314e",
   "metadata": {},
   "outputs": [],
   "source": [
    "b<-matrix(data = c(7,1,6,4),nrow = 2,ncol = 2,byrow = FALSE)"
   ]
  },
  {
   "cell_type": "code",
   "execution_count": 10,
   "id": "bf45850f-657d-4311-8d91-1b7324c8481e",
   "metadata": {},
   "outputs": [
    {
     "data": {
      "text/html": [
       "<table class=\"dataframe\">\n",
       "<caption>A matrix: 2 × 2 of type dbl</caption>\n",
       "<tbody>\n",
       "\t<tr><td>7</td><td>6</td></tr>\n",
       "\t<tr><td>1</td><td>4</td></tr>\n",
       "</tbody>\n",
       "</table>\n"
      ],
      "text/latex": [
       "A matrix: 2 × 2 of type dbl\n",
       "\\begin{tabular}{ll}\n",
       "\t 7 & 6\\\\\n",
       "\t 1 & 4\\\\\n",
       "\\end{tabular}\n"
      ],
      "text/markdown": [
       "\n",
       "A matrix: 2 × 2 of type dbl\n",
       "\n",
       "| 7 | 6 |\n",
       "| 1 | 4 |\n",
       "\n"
      ],
      "text/plain": [
       "     [,1] [,2]\n",
       "[1,] 7    6   \n",
       "[2,] 1    4   "
      ]
     },
     "metadata": {},
     "output_type": "display_data"
    }
   ],
   "source": [
    "b"
   ]
  },
  {
   "cell_type": "code",
   "execution_count": 9,
   "id": "607a981c-bcfa-49f7-9c1e-30e4770c61f7",
   "metadata": {},
   "outputs": [
    {
     "name": "stdout",
     "output_type": "stream",
     "text": [
      "     [,1] [,2]\n",
      "[1,]    7    6\n",
      "[2,]    1    4\n"
     ]
    }
   ],
   "source": [
    "print(b)"
   ]
  },
  {
   "cell_type": "code",
   "execution_count": null,
   "id": "36f2de29-2691-4e72-9e06-de6a5d26a27e",
   "metadata": {},
   "outputs": [],
   "source": []
  }
 ],
 "metadata": {
  "kernelspec": {
   "display_name": "R",
   "language": "R",
   "name": "ir"
  },
  "language_info": {
   "codemirror_mode": "r",
   "file_extension": ".r",
   "mimetype": "text/x-r-source",
   "name": "R",
   "pygments_lexer": "r",
   "version": "4.3.3"
  }
 },
 "nbformat": 4,
 "nbformat_minor": 5
}
