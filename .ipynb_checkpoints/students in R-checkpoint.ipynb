{
 "cells": [
  {
   "cell_type": "code",
   "execution_count": 1,
   "id": "83973612-113d-4f8e-a957-027819b101c2",
   "metadata": {},
   "outputs": [],
   "source": [
    "sdata<-data.frame(sname=c('raja','soma','roja'), \n",
    "sroll=c(101,103,104), \n",
    "sage=c(19,20,18), \n",
    "ssex=c('male','male','female'), \n",
    "branch=c('cse','mech','eee'), \n",
    "m1=c(90,79,88),m2=c(95,85,90),m3=c(85,25,85),m4=c(70,40,60),m5=c(67,67,89))"
   ]
  },
  {
   "cell_type": "code",
   "execution_count": 2,
   "id": "d987c011-038c-4fc0-b11b-9d53b8bf8531",
   "metadata": {},
   "outputs": [
    {
     "data": {
      "text/html": [
       "<table class=\"dataframe\">\n",
       "<caption>A data.frame: 3 × 10</caption>\n",
       "<thead>\n",
       "\t<tr><th scope=col>sname</th><th scope=col>sroll</th><th scope=col>sage</th><th scope=col>ssex</th><th scope=col>branch</th><th scope=col>m1</th><th scope=col>m2</th><th scope=col>m3</th><th scope=col>m4</th><th scope=col>m5</th></tr>\n",
       "\t<tr><th scope=col>&lt;chr&gt;</th><th scope=col>&lt;dbl&gt;</th><th scope=col>&lt;dbl&gt;</th><th scope=col>&lt;chr&gt;</th><th scope=col>&lt;chr&gt;</th><th scope=col>&lt;dbl&gt;</th><th scope=col>&lt;dbl&gt;</th><th scope=col>&lt;dbl&gt;</th><th scope=col>&lt;dbl&gt;</th><th scope=col>&lt;dbl&gt;</th></tr>\n",
       "</thead>\n",
       "<tbody>\n",
       "\t<tr><td>raja</td><td>101</td><td>19</td><td>male  </td><td>cse </td><td>90</td><td>95</td><td>85</td><td>70</td><td>67</td></tr>\n",
       "\t<tr><td>soma</td><td>103</td><td>20</td><td>male  </td><td>mech</td><td>79</td><td>85</td><td>25</td><td>40</td><td>67</td></tr>\n",
       "\t<tr><td>roja</td><td>104</td><td>18</td><td>female</td><td>eee </td><td>88</td><td>90</td><td>85</td><td>60</td><td>89</td></tr>\n",
       "</tbody>\n",
       "</table>\n"
      ],
      "text/latex": [
       "A data.frame: 3 × 10\n",
       "\\begin{tabular}{llllllllll}\n",
       " sname & sroll & sage & ssex & branch & m1 & m2 & m3 & m4 & m5\\\\\n",
       " <chr> & <dbl> & <dbl> & <chr> & <chr> & <dbl> & <dbl> & <dbl> & <dbl> & <dbl>\\\\\n",
       "\\hline\n",
       "\t raja & 101 & 19 & male   & cse  & 90 & 95 & 85 & 70 & 67\\\\\n",
       "\t soma & 103 & 20 & male   & mech & 79 & 85 & 25 & 40 & 67\\\\\n",
       "\t roja & 104 & 18 & female & eee  & 88 & 90 & 85 & 60 & 89\\\\\n",
       "\\end{tabular}\n"
      ],
      "text/markdown": [
       "\n",
       "A data.frame: 3 × 10\n",
       "\n",
       "| sname &lt;chr&gt; | sroll &lt;dbl&gt; | sage &lt;dbl&gt; | ssex &lt;chr&gt; | branch &lt;chr&gt; | m1 &lt;dbl&gt; | m2 &lt;dbl&gt; | m3 &lt;dbl&gt; | m4 &lt;dbl&gt; | m5 &lt;dbl&gt; |\n",
       "|---|---|---|---|---|---|---|---|---|---|\n",
       "| raja | 101 | 19 | male   | cse  | 90 | 95 | 85 | 70 | 67 |\n",
       "| soma | 103 | 20 | male   | mech | 79 | 85 | 25 | 40 | 67 |\n",
       "| roja | 104 | 18 | female | eee  | 88 | 90 | 85 | 60 | 89 |\n",
       "\n"
      ],
      "text/plain": [
       "  sname sroll sage ssex   branch m1 m2 m3 m4 m5\n",
       "1 raja  101   19   male   cse    90 95 85 70 67\n",
       "2 soma  103   20   male   mech   79 85 25 40 67\n",
       "3 roja  104   18   female eee    88 90 85 60 89"
      ]
     },
     "metadata": {},
     "output_type": "display_data"
    }
   ],
   "source": [
    "sdata"
   ]
  },
  {
   "cell_type": "code",
   "execution_count": 4,
   "id": "605af75a-d170-4024-aa9b-64f91342147f",
   "metadata": {},
   "outputs": [],
   "source": [
    "write.table(sdata,file ='student.txt')"
   ]
  },
  {
   "cell_type": "code",
   "execution_count": 5,
   "id": "9771ad8f-d462-41ce-8e7e-a6ee6d4bccbd",
   "metadata": {},
   "outputs": [],
   "source": [
    "pdata=read.table('student.txt')"
   ]
  },
  {
   "cell_type": "code",
   "execution_count": 6,
   "id": "c7410592-8a02-4aa4-bb9a-a09f55e4d6a7",
   "metadata": {},
   "outputs": [
    {
     "data": {
      "text/html": [
       "<table class=\"dataframe\">\n",
       "<caption>A data.frame: 3 × 10</caption>\n",
       "<thead>\n",
       "\t<tr><th></th><th scope=col>sname</th><th scope=col>sroll</th><th scope=col>sage</th><th scope=col>ssex</th><th scope=col>branch</th><th scope=col>m1</th><th scope=col>m2</th><th scope=col>m3</th><th scope=col>m4</th><th scope=col>m5</th></tr>\n",
       "\t<tr><th></th><th scope=col>&lt;chr&gt;</th><th scope=col>&lt;int&gt;</th><th scope=col>&lt;int&gt;</th><th scope=col>&lt;chr&gt;</th><th scope=col>&lt;chr&gt;</th><th scope=col>&lt;int&gt;</th><th scope=col>&lt;int&gt;</th><th scope=col>&lt;int&gt;</th><th scope=col>&lt;int&gt;</th><th scope=col>&lt;int&gt;</th></tr>\n",
       "</thead>\n",
       "<tbody>\n",
       "\t<tr><th scope=row>1</th><td>raja</td><td>101</td><td>19</td><td>male  </td><td>cse </td><td>90</td><td>95</td><td>85</td><td>70</td><td>67</td></tr>\n",
       "\t<tr><th scope=row>2</th><td>soma</td><td>103</td><td>20</td><td>male  </td><td>mech</td><td>79</td><td>85</td><td>25</td><td>40</td><td>67</td></tr>\n",
       "\t<tr><th scope=row>3</th><td>roja</td><td>104</td><td>18</td><td>female</td><td>eee </td><td>88</td><td>90</td><td>85</td><td>60</td><td>89</td></tr>\n",
       "</tbody>\n",
       "</table>\n"
      ],
      "text/latex": [
       "A data.frame: 3 × 10\n",
       "\\begin{tabular}{r|llllllllll}\n",
       "  & sname & sroll & sage & ssex & branch & m1 & m2 & m3 & m4 & m5\\\\\n",
       "  & <chr> & <int> & <int> & <chr> & <chr> & <int> & <int> & <int> & <int> & <int>\\\\\n",
       "\\hline\n",
       "\t1 & raja & 101 & 19 & male   & cse  & 90 & 95 & 85 & 70 & 67\\\\\n",
       "\t2 & soma & 103 & 20 & male   & mech & 79 & 85 & 25 & 40 & 67\\\\\n",
       "\t3 & roja & 104 & 18 & female & eee  & 88 & 90 & 85 & 60 & 89\\\\\n",
       "\\end{tabular}\n"
      ],
      "text/markdown": [
       "\n",
       "A data.frame: 3 × 10\n",
       "\n",
       "| <!--/--> | sname &lt;chr&gt; | sroll &lt;int&gt; | sage &lt;int&gt; | ssex &lt;chr&gt; | branch &lt;chr&gt; | m1 &lt;int&gt; | m2 &lt;int&gt; | m3 &lt;int&gt; | m4 &lt;int&gt; | m5 &lt;int&gt; |\n",
       "|---|---|---|---|---|---|---|---|---|---|---|\n",
       "| 1 | raja | 101 | 19 | male   | cse  | 90 | 95 | 85 | 70 | 67 |\n",
       "| 2 | soma | 103 | 20 | male   | mech | 79 | 85 | 25 | 40 | 67 |\n",
       "| 3 | roja | 104 | 18 | female | eee  | 88 | 90 | 85 | 60 | 89 |\n",
       "\n"
      ],
      "text/plain": [
       "  sname sroll sage ssex   branch m1 m2 m3 m4 m5\n",
       "1 raja  101   19   male   cse    90 95 85 70 67\n",
       "2 soma  103   20   male   mech   79 85 25 40 67\n",
       "3 roja  104   18   female eee    88 90 85 60 89"
      ]
     },
     "metadata": {},
     "output_type": "display_data"
    }
   ],
   "source": [
    "pdata"
   ]
  },
  {
   "cell_type": "code",
   "execution_count": 16,
   "id": "e363ddda-89c5-4518-bafc-6c8fd829427d",
   "metadata": {},
   "outputs": [
    {
     "data": {
      "text/html": [
       "<table class=\"dataframe\">\n",
       "<caption>A data.frame: 3 × 10</caption>\n",
       "<thead>\n",
       "\t<tr><th></th><th scope=col>sname</th><th scope=col>sroll</th><th scope=col>sage</th><th scope=col>ssex</th><th scope=col>branch</th><th scope=col>m1</th><th scope=col>m2</th><th scope=col>m3</th><th scope=col>m4</th><th scope=col>m5</th></tr>\n",
       "\t<tr><th></th><th scope=col>&lt;chr&gt;</th><th scope=col>&lt;dbl&gt;</th><th scope=col>&lt;dbl&gt;</th><th scope=col>&lt;chr&gt;</th><th scope=col>&lt;chr&gt;</th><th scope=col>&lt;dbl&gt;</th><th scope=col>&lt;dbl&gt;</th><th scope=col>&lt;dbl&gt;</th><th scope=col>&lt;dbl&gt;</th><th scope=col>&lt;dbl&gt;</th></tr>\n",
       "</thead>\n",
       "<tbody>\n",
       "\t<tr><th scope=row>1</th><td>raja</td><td>101</td><td>19</td><td>male  </td><td>cse </td><td>90</td><td>95</td><td>85</td><td>70</td><td>67</td></tr>\n",
       "\t<tr><th scope=row>2</th><td>soma</td><td>103</td><td>20</td><td>male  </td><td>mech</td><td>79</td><td>85</td><td>25</td><td>40</td><td>67</td></tr>\n",
       "\t<tr><th scope=row>3</th><td>roja</td><td>104</td><td>18</td><td>female</td><td>eee </td><td>88</td><td>90</td><td>85</td><td>60</td><td>89</td></tr>\n",
       "</tbody>\n",
       "</table>\n"
      ],
      "text/latex": [
       "A data.frame: 3 × 10\n",
       "\\begin{tabular}{r|llllllllll}\n",
       "  & sname & sroll & sage & ssex & branch & m1 & m2 & m3 & m4 & m5\\\\\n",
       "  & <chr> & <dbl> & <dbl> & <chr> & <chr> & <dbl> & <dbl> & <dbl> & <dbl> & <dbl>\\\\\n",
       "\\hline\n",
       "\t1 & raja & 101 & 19 & male   & cse  & 90 & 95 & 85 & 70 & 67\\\\\n",
       "\t2 & soma & 103 & 20 & male   & mech & 79 & 85 & 25 & 40 & 67\\\\\n",
       "\t3 & roja & 104 & 18 & female & eee  & 88 & 90 & 85 & 60 & 89\\\\\n",
       "\\end{tabular}\n"
      ],
      "text/markdown": [
       "\n",
       "A data.frame: 3 × 10\n",
       "\n",
       "| <!--/--> | sname &lt;chr&gt; | sroll &lt;dbl&gt; | sage &lt;dbl&gt; | ssex &lt;chr&gt; | branch &lt;chr&gt; | m1 &lt;dbl&gt; | m2 &lt;dbl&gt; | m3 &lt;dbl&gt; | m4 &lt;dbl&gt; | m5 &lt;dbl&gt; |\n",
       "|---|---|---|---|---|---|---|---|---|---|---|\n",
       "| 1 | raja | 101 | 19 | male   | cse  | 90 | 95 | 85 | 70 | 67 |\n",
       "| 2 | soma | 103 | 20 | male   | mech | 79 | 85 | 25 | 40 | 67 |\n",
       "| 3 | roja | 104 | 18 | female | eee  | 88 | 90 | 85 | 60 | 89 |\n",
       "\n"
      ],
      "text/plain": [
       "  sname sroll sage ssex   branch m1 m2 m3 m4 m5\n",
       "1 raja  101   19   male   cse    90 95 85 70 67\n",
       "2 soma  103   20   male   mech   79 85 25 40 67\n",
       "3 roja  104   18   female eee    88 90 85 60 89"
      ]
     },
     "metadata": {},
     "output_type": "display_data"
    }
   ],
   "source": [
    "head(sdata)"
   ]
  },
  {
   "cell_type": "code",
   "execution_count": 8,
   "id": "2e6ee412-4ad4-47fd-9c03-31581af488bf",
   "metadata": {},
   "outputs": [
    {
     "data": {
      "text/html": [
       "3"
      ],
      "text/latex": [
       "3"
      ],
      "text/markdown": [
       "3"
      ],
      "text/plain": [
       "[1] 3"
      ]
     },
     "metadata": {},
     "output_type": "display_data"
    }
   ],
   "source": [
    "nrow(sdata)"
   ]
  },
  {
   "cell_type": "code",
   "execution_count": 9,
   "id": "f25ee038-87dd-4bcb-bc60-e452de30d4b7",
   "metadata": {},
   "outputs": [
    {
     "data": {
      "text/html": [
       "10"
      ],
      "text/latex": [
       "10"
      ],
      "text/markdown": [
       "10"
      ],
      "text/plain": [
       "[1] 10"
      ]
     },
     "metadata": {},
     "output_type": "display_data"
    }
   ],
   "source": [
    "ncol(sdata)"
   ]
  },
  {
   "cell_type": "code",
   "execution_count": 12,
   "id": "2e375ba9-a14c-4aaa-89e7-b70437d5cf50",
   "metadata": {},
   "outputs": [],
   "source": [
    "result=vector(mode = 'character',length = 0)"
   ]
  },
  {
   "cell_type": "code",
   "execution_count": 14,
   "id": "afae8f82-1750-4c5b-8197-65bba85fd882",
   "metadata": {},
   "outputs": [],
   "source": [
    "for(i in 1:nrow(sdata)){\n",
    "    if(all(sdata[i,c('m1','m2','m3','m4','m5')]>50)){\n",
    "        status='pass'\n",
    "        \n",
    "    }else{\n",
    "        status='fail'\n",
    "    }\n",
    "    result=append(result,status)\n",
    "}"
   ]
  },
  {
   "cell_type": "code",
   "execution_count": 15,
   "id": "626ea08a-aa3d-4ed2-9693-8f8109e76200",
   "metadata": {},
   "outputs": [
    {
     "data": {
      "text/html": [
       "<style>\n",
       ".list-inline {list-style: none; margin:0; padding: 0}\n",
       ".list-inline>li {display: inline-block}\n",
       ".list-inline>li:not(:last-child)::after {content: \"\\00b7\"; padding: 0 .5ex}\n",
       "</style>\n",
       "<ol class=list-inline><li>'pass'</li><li>'fail'</li><li>'pass'</li></ol>\n"
      ],
      "text/latex": [
       "\\begin{enumerate*}\n",
       "\\item 'pass'\n",
       "\\item 'fail'\n",
       "\\item 'pass'\n",
       "\\end{enumerate*}\n"
      ],
      "text/markdown": [
       "1. 'pass'\n",
       "2. 'fail'\n",
       "3. 'pass'\n",
       "\n",
       "\n"
      ],
      "text/plain": [
       "[1] \"pass\" \"fail\" \"pass\""
      ]
     },
     "metadata": {},
     "output_type": "display_data"
    }
   ],
   "source": [
    "result"
   ]
  },
  {
   "cell_type": "code",
   "execution_count": 21,
   "id": "b3f6b576-2a22-4363-9ae7-a50bad6e82ac",
   "metadata": {},
   "outputs": [],
   "source": [
    "sdata$total=rowSums(sdata[c('m1','m2','m3','m4','m5')])"
   ]
  },
  {
   "cell_type": "code",
   "execution_count": 22,
   "id": "f08047dc-c701-4945-a4d7-138b412c30e8",
   "metadata": {},
   "outputs": [],
   "source": [
    "sdata$result=result"
   ]
  },
  {
   "cell_type": "code",
   "execution_count": 24,
   "id": "843f0b6b-c97f-494f-b1dc-6301a5434e10",
   "metadata": {},
   "outputs": [],
   "source": [
    "sdata$ptge=sdata$total/5"
   ]
  },
  {
   "cell_type": "code",
   "execution_count": 25,
   "id": "3fb2b42c-0250-4238-8c94-d7a28f882797",
   "metadata": {},
   "outputs": [
    {
     "data": {
      "text/html": [
       "<table class=\"dataframe\">\n",
       "<caption>A data.frame: 3 × 13</caption>\n",
       "<thead>\n",
       "\t<tr><th scope=col>sname</th><th scope=col>sroll</th><th scope=col>sage</th><th scope=col>ssex</th><th scope=col>branch</th><th scope=col>m1</th><th scope=col>m2</th><th scope=col>m3</th><th scope=col>m4</th><th scope=col>m5</th><th scope=col>total</th><th scope=col>result</th><th scope=col>ptge</th></tr>\n",
       "\t<tr><th scope=col>&lt;chr&gt;</th><th scope=col>&lt;dbl&gt;</th><th scope=col>&lt;dbl&gt;</th><th scope=col>&lt;chr&gt;</th><th scope=col>&lt;chr&gt;</th><th scope=col>&lt;dbl&gt;</th><th scope=col>&lt;dbl&gt;</th><th scope=col>&lt;dbl&gt;</th><th scope=col>&lt;dbl&gt;</th><th scope=col>&lt;dbl&gt;</th><th scope=col>&lt;dbl&gt;</th><th scope=col>&lt;chr&gt;</th><th scope=col>&lt;dbl&gt;</th></tr>\n",
       "</thead>\n",
       "<tbody>\n",
       "\t<tr><td>raja</td><td>101</td><td>19</td><td>male  </td><td>cse </td><td>90</td><td>95</td><td>85</td><td>70</td><td>67</td><td>407</td><td>pass</td><td>81.4</td></tr>\n",
       "\t<tr><td>soma</td><td>103</td><td>20</td><td>male  </td><td>mech</td><td>79</td><td>85</td><td>25</td><td>40</td><td>67</td><td>296</td><td>fail</td><td>59.2</td></tr>\n",
       "\t<tr><td>roja</td><td>104</td><td>18</td><td>female</td><td>eee </td><td>88</td><td>90</td><td>85</td><td>60</td><td>89</td><td>412</td><td>pass</td><td>82.4</td></tr>\n",
       "</tbody>\n",
       "</table>\n"
      ],
      "text/latex": [
       "A data.frame: 3 × 13\n",
       "\\begin{tabular}{lllllllllllll}\n",
       " sname & sroll & sage & ssex & branch & m1 & m2 & m3 & m4 & m5 & total & result & ptge\\\\\n",
       " <chr> & <dbl> & <dbl> & <chr> & <chr> & <dbl> & <dbl> & <dbl> & <dbl> & <dbl> & <dbl> & <chr> & <dbl>\\\\\n",
       "\\hline\n",
       "\t raja & 101 & 19 & male   & cse  & 90 & 95 & 85 & 70 & 67 & 407 & pass & 81.4\\\\\n",
       "\t soma & 103 & 20 & male   & mech & 79 & 85 & 25 & 40 & 67 & 296 & fail & 59.2\\\\\n",
       "\t roja & 104 & 18 & female & eee  & 88 & 90 & 85 & 60 & 89 & 412 & pass & 82.4\\\\\n",
       "\\end{tabular}\n"
      ],
      "text/markdown": [
       "\n",
       "A data.frame: 3 × 13\n",
       "\n",
       "| sname &lt;chr&gt; | sroll &lt;dbl&gt; | sage &lt;dbl&gt; | ssex &lt;chr&gt; | branch &lt;chr&gt; | m1 &lt;dbl&gt; | m2 &lt;dbl&gt; | m3 &lt;dbl&gt; | m4 &lt;dbl&gt; | m5 &lt;dbl&gt; | total &lt;dbl&gt; | result &lt;chr&gt; | ptge &lt;dbl&gt; |\n",
       "|---|---|---|---|---|---|---|---|---|---|---|---|---|\n",
       "| raja | 101 | 19 | male   | cse  | 90 | 95 | 85 | 70 | 67 | 407 | pass | 81.4 |\n",
       "| soma | 103 | 20 | male   | mech | 79 | 85 | 25 | 40 | 67 | 296 | fail | 59.2 |\n",
       "| roja | 104 | 18 | female | eee  | 88 | 90 | 85 | 60 | 89 | 412 | pass | 82.4 |\n",
       "\n"
      ],
      "text/plain": [
       "  sname sroll sage ssex   branch m1 m2 m3 m4 m5 total result ptge\n",
       "1 raja  101   19   male   cse    90 95 85 70 67 407   pass   81.4\n",
       "2 soma  103   20   male   mech   79 85 25 40 67 296   fail   59.2\n",
       "3 roja  104   18   female eee    88 90 85 60 89 412   pass   82.4"
      ]
     },
     "metadata": {},
     "output_type": "display_data"
    }
   ],
   "source": [
    "sdata"
   ]
  },
  {
   "cell_type": "code",
   "execution_count": null,
   "id": "bc4ed2ef-bb44-4e29-a42d-01ab3414dc76",
   "metadata": {},
   "outputs": [],
   "source": []
  }
 ],
 "metadata": {
  "kernelspec": {
   "display_name": "R",
   "language": "R",
   "name": "ir"
  },
  "language_info": {
   "codemirror_mode": "r",
   "file_extension": ".r",
   "mimetype": "text/x-r-source",
   "name": "R",
   "pygments_lexer": "r",
   "version": "4.3.3"
  }
 },
 "nbformat": 4,
 "nbformat_minor": 5
}
