{
 "cells": [
  {
   "cell_type": "code",
   "execution_count": 1,
   "id": "01f6862a",
   "metadata": {
    "vscode": {
     "languageId": "r"
    }
   },
   "outputs": [
    {
     "name": "stdout",
     "output_type": "stream",
     "text": [
      "Enter size of Matrix A:\n"
     ]
    }
   ],
   "source": [
    "# Input for Matrix A\n",
    "cat(\"Enter size of Matrix A:\\n\")\n",
    "m <- as.integer(readline(\"m = \"))\n",
    "n <- as.integer(readline(\"n = \"))\n",
    "avec <- as.integer(scan(n = m * n))\n",
    "A <- matrix(avec, nrow = m, ncol = n, byrow = TRUE)\n"
   ]
  },
  {
   "cell_type": "code",
   "execution_count": 2,
   "id": "bff4b977",
   "metadata": {
    "vscode": {
     "languageId": "r"
    }
   },
   "outputs": [
    {
     "name": "stdout",
     "output_type": "stream",
     "text": [
      "Enter size of Matrix B:\n"
     ]
    }
   ],
   "source": [
    "\n",
    "# Input for Matrix B\n",
    "cat(\"Enter size of Matrix B:\\n\")\n",
    "p <- as.integer(readline(\"p = \"))\n",
    "s <- as.integer(readline(\"s = \"))\n",
    "bvec <- as.integer(scan(n = p * s))\n",
    "B <- matrix(bvec, nrow = p, ncol = s, byrow = TRUE)\n"
   ]
  },
  {
   "cell_type": "code",
   "execution_count": 3,
   "id": "86c8ddb2",
   "metadata": {
    "vscode": {
     "languageId": "r"
    }
   },
   "outputs": [
    {
     "name": "stdout",
     "output_type": "stream",
     "text": [
      "Matrix A:\n",
      "     [,1] [,2]\n",
      "[1,]   NA   NA\n",
      "[2,]   NA   NA\n",
      "Matrix B:\n",
      "     [,1] [,2]\n",
      "[1,]   NA   NA\n",
      "[2,]   NA   NA\n"
     ]
    }
   ],
   "source": [
    "# Display matrices\n",
    "cat(\"Matrix A:\\n\"); print(A)\n",
    "cat(\"Matrix B:\\n\"); print(B)"
   ]
  },
  {
   "cell_type": "code",
   "execution_count": 4,
   "id": "b31ffc34",
   "metadata": {
    "vscode": {
     "languageId": "r"
    }
   },
   "outputs": [
    {
     "name": "stdout",
     "output_type": "stream",
     "text": [
      "Addition (A + B):\n",
      "     [,1] [,2]\n",
      "[1,]   NA   NA\n",
      "[2,]   NA   NA\n",
      "Subtraction (A - B):\n",
      "     [,1] [,2]\n",
      "[1,]   NA   NA\n",
      "[2,]   NA   NA\n",
      "Scalar Multiplication (3 * A):\n",
      "     [,1] [,2]\n",
      "[1,]   NA   NA\n",
      "[2,]   NA   NA\n",
      "Multiplication (A %*% B):\n",
      "     [,1] [,2]\n",
      "[1,]   NA   NA\n",
      "[2,]   NA   NA\n",
      "Diagonal of A:\n",
      "[1] NA NA\n",
      "Transpose of A:\n",
      "     [,1] [,2]\n",
      "[1,]   NA   NA\n",
      "[2,]   NA   NA\n",
      "Inverse of A:\n",
      "     [,1] [,2]\n",
      "[1,]   NA   NA\n",
      "[2,]   NA   NA\n"
     ]
    }
   ],
   "source": [
    "# Operations\n",
    "cat(\"Addition (A + B):\\n\"); print(A + B)\n",
    "cat(\"Subtraction (A - B):\\n\"); print(A - B)\n",
    "cat(\"Scalar Multiplication (3 * A):\\n\"); print(3 * A)\n",
    "cat(\"Multiplication (A %*% B):\\n\"); print(A %*% B)\n",
    "cat(\"Diagonal of A:\\n\"); print(diag(A))\n",
    "cat(\"Transpose of A:\\n\"); print(t(A))\n",
    "cat(\"Inverse of A:\\n\"); print(solve(A))"
   ]
  },
  {
   "cell_type": "code",
   "execution_count": null,
   "id": "6cdb4712",
   "metadata": {
    "vscode": {
     "languageId": "r"
    }
   },
   "outputs": [],
   "source": []
  }
 ],
 "metadata": {
  "kernelspec": {
   "display_name": "R",
   "language": "R",
   "name": "ir"
  },
  "language_info": {
   "codemirror_mode": "r",
   "file_extension": ".r",
   "mimetype": "text/x-r-source",
   "name": "R",
   "pygments_lexer": "r",
   "version": "4.4.2"
  }
 },
 "nbformat": 4,
 "nbformat_minor": 5
}
